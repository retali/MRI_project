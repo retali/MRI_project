{
 "cells": [
  {
   "cell_type": "code",
   "execution_count": 1,
   "metadata": {},
   "outputs": [],
   "source": [
    "import matplotlib.pyplot as plt\n",
    "import pandas as pd\n",
    "import scipy.stats as st\n",
    "import numpy as np\n",
    "from scipy.stats import linregress\n",
    "\n",
    "#This is to define the model object, fit the model to the data and make predictions with the model.\n",
    "#The model is: real GDP percapita growth rate (Y) = f(MRI) [ Y = aX + b + e (e = prediction error)]\n",
    "#They are also calculated the mean squared error (MSE), the correlation coefficient and the Rsquared.\n",
    "#It is used the predict function to calculate predicted values.\n",
    "#VALIDATION: In order to quantify our model against new input values, we often split the data into training and testing data. \n",
    "#The model is then fit to the training data and scored by the test data. \n",
    "#Sklean pre-processing provides a library for automatically splitting up the data into training and testing.\n",
    "#It is used the Durbin-Watson test for serial correlation (autocorrelation) test.\n",
    "#It is shown the model fit by plotting the predicted values against the original data\n",
    "\n",
    "#All this can be performed for each of the European economies: 23 countries\n",
    "#Each country has around 40 years of data\n",
    "#All dataset were provided by the International Monetary Fund\n",
    "# https://www.imf.org/external/pubs/ft/weo/2019/01/weodata/weoselagr.aspx\n",
    "\n",
    "#Macroeconomic Result Index (MRI) is an Index developed by Jose Ignacio Diaz Rettali\n",
    "\n",
    "#Analysis for 23 European economies based on the Macroeconomic Result Index (MRI)\n",
    "# MRI = (real GDP rate / (inflation rate / unemployment rate)) * 1000\n",
    "# In order to demonstrate the strong relationship between the MRI and real GDP percapita rate,\n",
    "# it is calcualted the R-squared for these variables to each country, and it is also\n",
    "# needed to show the distribution around the mean R-squared\n",
    "#The R-squared is calculated between the MRI and the real GDP percapita rate\n",
    "\n",
    "Data1 = \"data1/austria.csv\"\n",
    "Data2 = \"data1/belgium.csv\"\n",
    "Data3 = \"data1/bulgaria.csv\"\n",
    "Data4 = \"data1/croatia.csv\"\n",
    "Data5 = \"data1/czechrep.csv\"\n",
    "Data6 = \"data1/denmark.csv\"\n",
    "Data7 = \"data1/finland.csv\"\n",
    "Data8 = \"data1/france.csv\"\n",
    "Data9 = \"data1/germany.csv\"\n",
    "Data10 = \"data1/greece.csv\"\n",
    "Data11 = \"data1/hungary.csv\"\n",
    "Data12 = \"data1/iceland.csv\"\n",
    "Data13 = \"data1/italy.csv\"\n",
    "Data14 = \"data1/luxembourg.csv\"\n",
    "Data15 = \"data1/netherland.csv\"\n",
    "Data16 = \"data1/norway.csv\"\n",
    "Data17 = \"data1/poland.csv\"\n",
    "Data18 = \"data1/portugal.csv\"\n",
    "Data19 = \"data1/romania.csv\"\n",
    "Data20 = \"data1/spain.csv\"\n",
    "Data21 = \"data1/sweden.csv\"\n",
    "Data22 = \"data1/switzerland.csv\"\n",
    "Data23 = \"data1/unitedkingdom.csv\"\n",
    "\n",
    "dataW1 = pd.read_csv(Data1)\n",
    "dataW2 = pd.read_csv(Data2)\n",
    "dataW3 = pd.read_csv(Data3)\n",
    "dataW4 = pd.read_csv(Data4)\n",
    "dataW5 = pd.read_csv(Data5)\n",
    "dataW6 = pd.read_csv(Data6)\n",
    "dataW7 = pd.read_csv(Data7)\n",
    "dataW8 = pd.read_csv(Data8)\n",
    "dataW9 = pd.read_csv(Data9)\n",
    "dataW10 = pd.read_csv(Data10)\n",
    "dataW11 = pd.read_csv(Data11)\n",
    "dataW12 = pd.read_csv(Data12)\n",
    "dataW13 = pd.read_csv(Data13)\n",
    "dataW14 = pd.read_csv(Data14)\n",
    "dataW15 = pd.read_csv(Data15)\n",
    "dataW16 = pd.read_csv(Data16)\n",
    "dataW17 = pd.read_csv(Data17)\n",
    "dataW18 = pd.read_csv(Data18)\n",
    "dataW19 = pd.read_csv(Data19)\n",
    "dataW20 = pd.read_csv(Data20)\n",
    "dataW21 = pd.read_csv(Data21)\n",
    "dataW22 = pd.read_csv(Data22)\n",
    "dataW23 = pd.read_csv(Data23)\n",
    "\n",
    "countries = ['Austria', 'Belgium', 'Bulgaria', 'Croatia', 'Czechrep', 'Denmark', 'Finland', 'France', 'Germany',\n",
    "             'Greece', 'Hungary', 'Iceland', 'Italy', 'Luxembourg', 'Netherland', 'Norway', 'Poland', 'Portugal',\n",
    "            'Romania', 'Spain', 'Sweden', 'Switzerland', 'United  kingdom']\n",
    "dfrs = pd.DataFrame(countries, columns = [\"Countries\"])\n",
    "\n",
    "#dfrs\n"
   ]
  },
  {
   "cell_type": "code",
   "execution_count": 2,
   "metadata": {},
   "outputs": [
    {
     "data": {
      "text/html": [
       "<div>\n",
       "<style scoped>\n",
       "    .dataframe tbody tr th:only-of-type {\n",
       "        vertical-align: middle;\n",
       "    }\n",
       "\n",
       "    .dataframe tbody tr th {\n",
       "        vertical-align: top;\n",
       "    }\n",
       "\n",
       "    .dataframe thead th {\n",
       "        text-align: right;\n",
       "    }\n",
       "</style>\n",
       "<table border=\"1\" class=\"dataframe\">\n",
       "  <thead>\n",
       "    <tr style=\"text-align: right;\">\n",
       "      <th></th>\n",
       "      <th>year</th>\n",
       "      <th>gdprate</th>\n",
       "      <th>infrate</th>\n",
       "      <th>unemprate</th>\n",
       "      <th>gdppcrate</th>\n",
       "      <th>mri</th>\n",
       "    </tr>\n",
       "  </thead>\n",
       "  <tbody>\n",
       "    <tr>\n",
       "      <th>0</th>\n",
       "      <td>1980</td>\n",
       "      <td>1.809</td>\n",
       "      <td>13.057</td>\n",
       "      <td>6.349</td>\n",
       "      <td>1.334</td>\n",
       "      <td>93.218592</td>\n",
       "    </tr>\n",
       "    <tr>\n",
       "      <th>1</th>\n",
       "      <td>1981</td>\n",
       "      <td>1.069</td>\n",
       "      <td>13.333</td>\n",
       "      <td>7.438</td>\n",
       "      <td>0.513</td>\n",
       "      <td>51.465986</td>\n",
       "    </tr>\n",
       "    <tr>\n",
       "      <th>2</th>\n",
       "      <td>1982</td>\n",
       "      <td>2.505</td>\n",
       "      <td>11.978</td>\n",
       "      <td>8.069</td>\n",
       "      <td>1.927</td>\n",
       "      <td>124.956353</td>\n",
       "    </tr>\n",
       "    <tr>\n",
       "      <th>3</th>\n",
       "      <td>1983</td>\n",
       "      <td>1.241</td>\n",
       "      <td>9.460</td>\n",
       "      <td>7.383</td>\n",
       "      <td>0.657</td>\n",
       "      <td>73.680461</td>\n",
       "    </tr>\n",
       "    <tr>\n",
       "      <th>4</th>\n",
       "      <td>1984</td>\n",
       "      <td>1.514</td>\n",
       "      <td>7.674</td>\n",
       "      <td>8.458</td>\n",
       "      <td>1.061</td>\n",
       "      <td>93.850731</td>\n",
       "    </tr>\n",
       "  </tbody>\n",
       "</table>\n",
       "</div>"
      ],
      "text/plain": [
       "   year  gdprate  infrate  unemprate  gdppcrate         mri\n",
       "0  1980    1.809   13.057      6.349      1.334   93.218592\n",
       "1  1981    1.069   13.333      7.438      0.513   51.465986\n",
       "2  1982    2.505   11.978      8.069      1.927  124.956353\n",
       "3  1983    1.241    9.460      7.383      0.657   73.680461\n",
       "4  1984    1.514    7.674      8.458      1.061   93.850731"
      ]
     },
     "execution_count": 2,
     "metadata": {},
     "output_type": "execute_result"
    }
   ],
   "source": [
    "#calculating the Macroeconomic Result Index (MRI)\n",
    "#The number in dataW## identify the country to analyze, examples: dataW1 = Austria or dataW23 = United Kingdom\n",
    "\n",
    "dataT = dataW8\n",
    "\n",
    "dataT['mri'] = (dataT[\"gdprate\"] / (dataT[\"infrate\"] + dataT[\"unemprate\"])) * 1000\n",
    "#print(dataT)\n",
    "\n",
    "dataT.head()\n"
   ]
  },
  {
   "cell_type": "code",
   "execution_count": 3,
   "metadata": {},
   "outputs": [
    {
     "data": {
      "text/html": [
       "<table class=\"simpletable\">\n",
       "<caption>OLS Regression Results</caption>\n",
       "<tr>\n",
       "  <th>Dep. Variable:</th>        <td>gdppcrate</td>    <th>  R-squared:         </th> <td>   0.963</td>\n",
       "</tr>\n",
       "<tr>\n",
       "  <th>Model:</th>                   <td>OLS</td>       <th>  Adj. R-squared:    </th> <td>   0.962</td>\n",
       "</tr>\n",
       "<tr>\n",
       "  <th>Method:</th>             <td>Least Squares</td>  <th>  F-statistic:       </th> <td>   1053.</td>\n",
       "</tr>\n",
       "<tr>\n",
       "  <th>Date:</th>             <td>Sat, 31 Oct 2020</td> <th>  Prob (F-statistic):</th> <td>2.37e-30</td>\n",
       "</tr>\n",
       "<tr>\n",
       "  <th>Time:</th>                 <td>09:22:09</td>     <th>  Log-Likelihood:    </th> <td> -17.428</td>\n",
       "</tr>\n",
       "<tr>\n",
       "  <th>No. Observations:</th>      <td>    42</td>      <th>  AIC:               </th> <td>   38.86</td>\n",
       "</tr>\n",
       "<tr>\n",
       "  <th>Df Residuals:</th>          <td>    40</td>      <th>  BIC:               </th> <td>   42.33</td>\n",
       "</tr>\n",
       "<tr>\n",
       "  <th>Df Model:</th>              <td>     1</td>      <th>                     </th>     <td> </td>   \n",
       "</tr>\n",
       "<tr>\n",
       "  <th>Covariance Type:</th>      <td>nonrobust</td>    <th>                     </th>     <td> </td>   \n",
       "</tr>\n",
       "</table>\n",
       "<table class=\"simpletable\">\n",
       "<tr>\n",
       "    <td></td>       <th>coef</th>     <th>std err</th>      <th>t</th>      <th>P>|t|</th>  <th>[0.025</th>    <th>0.975]</th>  \n",
       "</tr>\n",
       "<tr>\n",
       "  <th>const</th> <td>   -0.2759</td> <td>    0.073</td> <td>   -3.773</td> <td> 0.001</td> <td>   -0.424</td> <td>   -0.128</td>\n",
       "</tr>\n",
       "<tr>\n",
       "  <th>mri</th>   <td>    0.0105</td> <td>    0.000</td> <td>   32.449</td> <td> 0.000</td> <td>    0.010</td> <td>    0.011</td>\n",
       "</tr>\n",
       "</table>\n",
       "<table class=\"simpletable\">\n",
       "<tr>\n",
       "  <th>Omnibus:</th>       <td> 4.076</td> <th>  Durbin-Watson:     </th> <td>   1.389</td>\n",
       "</tr>\n",
       "<tr>\n",
       "  <th>Prob(Omnibus):</th> <td> 0.130</td> <th>  Jarque-Bera (JB):  </th> <td>   3.053</td>\n",
       "</tr>\n",
       "<tr>\n",
       "  <th>Skew:</th>          <td> 0.391</td> <th>  Prob(JB):          </th> <td>   0.217</td>\n",
       "</tr>\n",
       "<tr>\n",
       "  <th>Kurtosis:</th>      <td> 4.065</td> <th>  Cond. No.          </th> <td>    284.</td>\n",
       "</tr>\n",
       "</table><br/><br/>Warnings:<br/>[1] Standard Errors assume that the covariance matrix of the errors is correctly specified."
      ],
      "text/plain": [
       "<class 'statsmodels.iolib.summary.Summary'>\n",
       "\"\"\"\n",
       "                            OLS Regression Results                            \n",
       "==============================================================================\n",
       "Dep. Variable:              gdppcrate   R-squared:                       0.963\n",
       "Model:                            OLS   Adj. R-squared:                  0.962\n",
       "Method:                 Least Squares   F-statistic:                     1053.\n",
       "Date:                Sat, 31 Oct 2020   Prob (F-statistic):           2.37e-30\n",
       "Time:                        09:22:09   Log-Likelihood:                -17.428\n",
       "No. Observations:                  42   AIC:                             38.86\n",
       "Df Residuals:                      40   BIC:                             42.33\n",
       "Df Model:                           1                                         \n",
       "Covariance Type:            nonrobust                                         \n",
       "==============================================================================\n",
       "                 coef    std err          t      P>|t|      [0.025      0.975]\n",
       "------------------------------------------------------------------------------\n",
       "const         -0.2759      0.073     -3.773      0.001      -0.424      -0.128\n",
       "mri            0.0105      0.000     32.449      0.000       0.010       0.011\n",
       "==============================================================================\n",
       "Omnibus:                        4.076   Durbin-Watson:                   1.389\n",
       "Prob(Omnibus):                  0.130   Jarque-Bera (JB):                3.053\n",
       "Skew:                           0.391   Prob(JB):                        0.217\n",
       "Kurtosis:                       4.065   Cond. No.                         284.\n",
       "==============================================================================\n",
       "\n",
       "Warnings:\n",
       "[1] Standard Errors assume that the covariance matrix of the errors is correctly specified.\n",
       "\"\"\""
      ]
     },
     "execution_count": 3,
     "metadata": {},
     "output_type": "execute_result"
    }
   ],
   "source": [
    "#Regression results for a simple linear regression\n",
    "\n",
    "from sklearn import linear_model\n",
    "import statsmodels.api as sm\n",
    "\n",
    "x = dataT['mri']\n",
    "y = dataT['gdppcrate']\n",
    "\n",
    "x = sm.add_constant(x)\n",
    "\n",
    "model = sm.OLS(y, x).fit()\n",
    "predictions = model.predict(x)\n",
    "model.summary()\n"
   ]
  },
  {
   "cell_type": "code",
   "execution_count": 4,
   "metadata": {},
   "outputs": [
    {
     "name": "stdout",
     "output_type": "stream",
     "text": [
      "y = 0.01054 x + -0.2759   rvalue = 0.98  stderr = 0.00032\n"
     ]
    }
   ],
   "source": [
    "# Estimated line equation\n",
    "\n",
    "(slope, intercept, rvalue, pvalue, stderr) = linregress(dataT[\"mri\"], dataT[\"gdppcrate\"])\n",
    "regressValues = dataT[\"mri\"]* slope + intercept\n",
    "lineEq = f\"y = {round(slope, 5)} x + {round(intercept, 4)}   rvalue = {round(rvalue, 2)}  stderr = {round(stderr, 5)}\"\n",
    "print(lineEq)\n"
   ]
  },
  {
   "cell_type": "code",
   "execution_count": 5,
   "metadata": {},
   "outputs": [
    {
     "data": {
      "text/html": [
       "<div>\n",
       "<style scoped>\n",
       "    .dataframe tbody tr th:only-of-type {\n",
       "        vertical-align: middle;\n",
       "    }\n",
       "\n",
       "    .dataframe tbody tr th {\n",
       "        vertical-align: top;\n",
       "    }\n",
       "\n",
       "    .dataframe thead th {\n",
       "        text-align: right;\n",
       "    }\n",
       "</style>\n",
       "<table border=\"1\" class=\"dataframe\">\n",
       "  <thead>\n",
       "    <tr style=\"text-align: right;\">\n",
       "      <th></th>\n",
       "      <th>Predicted</th>\n",
       "      <th>Actual</th>\n",
       "      <th>Error</th>\n",
       "    </tr>\n",
       "  </thead>\n",
       "  <tbody>\n",
       "    <tr>\n",
       "      <th>0</th>\n",
       "      <td>0.706902</td>\n",
       "      <td>1.334</td>\n",
       "      <td>-0.627098</td>\n",
       "    </tr>\n",
       "    <tr>\n",
       "      <th>1</th>\n",
       "      <td>0.266683</td>\n",
       "      <td>0.513</td>\n",
       "      <td>-0.246317</td>\n",
       "    </tr>\n",
       "    <tr>\n",
       "      <th>2</th>\n",
       "      <td>1.041529</td>\n",
       "      <td>1.927</td>\n",
       "      <td>-0.885471</td>\n",
       "    </tr>\n",
       "    <tr>\n",
       "      <th>3</th>\n",
       "      <td>0.500902</td>\n",
       "      <td>0.657</td>\n",
       "      <td>-0.156098</td>\n",
       "    </tr>\n",
       "    <tr>\n",
       "      <th>4</th>\n",
       "      <td>0.713567</td>\n",
       "      <td>1.061</td>\n",
       "      <td>-0.347433</td>\n",
       "    </tr>\n",
       "  </tbody>\n",
       "</table>\n",
       "</div>"
      ],
      "text/plain": [
       "   Predicted  Actual     Error\n",
       "0   0.706902   1.334 -0.627098\n",
       "1   0.266683   0.513 -0.246317\n",
       "2   1.041529   1.927 -0.885471\n",
       "3   0.500902   0.657 -0.156098\n",
       "4   0.713567   1.061 -0.347433"
      ]
     },
     "execution_count": 5,
     "metadata": {},
     "output_type": "execute_result"
    }
   ],
   "source": [
    "#Predicted values and prediction errors\n",
    "\n",
    "dfPAE = pd.DataFrame({\"Predicted\": predictions, \"Actual\": y, \"Error\": predictions - y})[[\"Predicted\", \"Actual\", \"Error\"]]\n",
    "dfPAE.head()\n"
   ]
  },
  {
   "cell_type": "code",
   "execution_count": null,
   "metadata": {},
   "outputs": [],
   "source": [
    "#export to excel\n",
    "\n",
    "#pd.DataFrame(dfPAE).to_excel('mripredict.xlsx', index=False)\n"
   ]
  },
  {
   "cell_type": "code",
   "execution_count": 6,
   "metadata": {},
   "outputs": [
    {
     "name": "stdout",
     "output_type": "stream",
     "text": [
      "True output: 1.927\n",
      "Predicted output: 1.0415\n",
      "Prediction Error: -0.8855\n"
     ]
    }
   ],
   "source": [
    "#Calculate predicted values\n",
    "# N = 0 ; for the first year in dataset\n",
    "\n",
    "N = 2\n",
    "\n",
    "print(f\"True output: {round(y[N], 4)}\")\n",
    "print(f\"Predicted output: {round(predictions[N], 4)}\")\n",
    "print(f\"Prediction Error: {round(predictions[N]-y[N], 4)}\")\n"
   ]
  },
  {
   "cell_type": "code",
   "execution_count": 7,
   "metadata": {},
   "outputs": [
    {
     "name": "stdout",
     "output_type": "stream",
     "text": [
      "Mean Squared Error (MSE): 0.1343\n",
      "R-squared (R2 ): 0.9634\n"
     ]
    }
   ],
   "source": [
    "# Score the prediction with mse and r2\n",
    "\n",
    "from sklearn.metrics import mean_squared_error, r2_score\n",
    "\n",
    "mse = mean_squared_error(y, predictions)\n",
    "r2 = r2_score(y, predictions)\n",
    "\n",
    "print(f\"Mean Squared Error (MSE): {round(mse, 4)}\")\n",
    "print(f\"R-squared (R2 ): {round(r2, 4)}\")\n"
   ]
  },
  {
   "cell_type": "code",
   "execution_count": 8,
   "metadata": {},
   "outputs": [
    {
     "name": "stdout",
     "output_type": "stream",
     "text": [
      "Shape: (42, 1) (42, 1)\n"
     ]
    }
   ],
   "source": [
    "#VALIDATION: In order to quantify our model against new input values, we often split the data into training and testing data. \n",
    "#The model is then fit to the training data and scored by the test data. \n",
    "#Sklearn pre-processing provides a library for automatically splitting up the data into training and testing\n",
    "\n",
    "from sklearn.linear_model import LinearRegression\n",
    "\n",
    "# Assign the data to X and y\n",
    "# Note: Sklearn requires a two-dimensional array of values\n",
    "# so we use reshape to create this\n",
    "\n",
    "X = dataT.mri.values.reshape(-1, 1)\n",
    "y = dataT.gdppcrate.values.reshape(-1, 1)\n",
    "\n",
    "print(\"Shape:\", X.shape, y.shape)\n",
    "#X\n",
    "#y\n"
   ]
  },
  {
   "cell_type": "code",
   "execution_count": 9,
   "metadata": {},
   "outputs": [],
   "source": [
    "# Create a linear model\n",
    "\n",
    "model = LinearRegression()\n"
   ]
  },
  {
   "cell_type": "code",
   "execution_count": 10,
   "metadata": {},
   "outputs": [
    {
     "data": {
      "text/plain": [
       "LinearRegression(copy_X=True, fit_intercept=True, n_jobs=None, normalize=False)"
      ]
     },
     "execution_count": 10,
     "metadata": {},
     "output_type": "execute_result"
    }
   ],
   "source": [
    "# Fit (Train) our model to the data\n",
    "\n",
    "model.fit(X, y)\n"
   ]
  },
  {
   "cell_type": "code",
   "execution_count": 11,
   "metadata": {},
   "outputs": [],
   "source": [
    "from sklearn.model_selection import train_test_split\n",
    "\n",
    "X_train, X_test, y_train, y_test = train_test_split(X, y, random_state=42)\n"
   ]
  },
  {
   "cell_type": "code",
   "execution_count": 12,
   "metadata": {},
   "outputs": [
    {
     "data": {
      "text/plain": [
       "LinearRegression(copy_X=True, fit_intercept=True, n_jobs=None, normalize=False)"
      ]
     },
     "execution_count": 12,
     "metadata": {},
     "output_type": "execute_result"
    }
   ],
   "source": [
    "#Train the model using the training data\n",
    "\n",
    "model.fit(X_train, y_train)\n"
   ]
  },
  {
   "cell_type": "code",
   "execution_count": 13,
   "metadata": {},
   "outputs": [
    {
     "name": "stdout",
     "output_type": "stream",
     "text": [
      "Overall score (testing data) = 0.9709\n"
     ]
    }
   ],
   "source": [
    "#And score the model using the unseen testing data\n",
    "\n",
    "ScoreT = model.score(X_test, y_test)\n",
    "print(f\"Overall score (testing data) = {round(ScoreT, 4)}\")\n"
   ]
  },
  {
   "cell_type": "code",
   "execution_count": 14,
   "metadata": {},
   "outputs": [
    {
     "data": {
      "image/png": "[encoded data removed]",
      "text/plain": [
       "<Figure size 720x504 with 1 Axes>"
      ]
     },
     "metadata": {
      "needs_background": "light"
     },
     "output_type": "display_data"
    }
   ],
   "source": [
    "#This is to show the model fit by plotting the predicted values against the original data.\n",
    "\n",
    "plt.figure(figsize = (10,7))\n",
    "\n",
    "x1 = dataT['year']\n",
    "y1 = dfPAE['Actual']\n",
    "plt.plot(x1, y1, label = \"Actual\", linewidth = 4)\n",
    "x2 = dataT['year']\n",
    "y2 = dfPAE['Predicted']\n",
    "plt.plot(x2, y2, label = \"Predicted\", linewidth = 3)\n",
    "plt.xlabel('years')\n",
    "plt.ylabel('real GDP percapita growth rate')\n",
    "plt.title('Actual vs Predicted values - France')\n",
    "plt.legend()\n",
    "plt.annotate(lineEq,(1980,-5), color = \"brown\", fontsize=12)\n",
    "plt.annotate('x = Macroeconomic Result Index',(1980,-6), color = \"brown\", fontsize=10)\n",
    "plt.show()\n"
   ]
  },
  {
   "cell_type": "code",
   "execution_count": 16,
   "metadata": {},
   "outputs": [
    {
     "data": {
      "image/png": "[encoded data removed]",
      "text/plain": [
       "<Figure size 720x504 with 1 Axes>"
      ]
     },
     "metadata": {
      "needs_background": "light"
     },
     "output_type": "display_data"
    }
   ],
   "source": [
    "#This is to show the model fit by plotting the GDP percapita growth rate vs MRI using the estimated model.\n",
    "\n",
    "(slope, intercept, rvalue, pvalue, stderr) = linregress(dataT[\"mri\"], dataT[\"gdppcrate\"])\n",
    "regressValues = dataT[\"mri\"]* slope + intercept\n",
    "lineEq = f\"y = {round(slope, 5)} x + {round(intercept, 4)}   rvalue = {round(rvalue, 2)}  stderr = {round(stderr, 5)}\"\n",
    "\n",
    "plt.figure(figsize = (10,7))\n",
    "\n",
    "plt.scatter(dataT[\"mri\"], dataT[\"gdppcrate\"])\n",
    "plt.plot(dataT[\"mri\"], regressValues, color = \"green\")\n",
    "plt.annotate(lineEq,(-200,-6), color = \"blue\", fontsize=10)\n",
    "plt.annotate('x = Macroeconomic Result Index',(-200,-7), color = \"brown\", fontsize=10)\n",
    "plt.xlabel(\"Macroeconomic Result Index (MRI)\")\n",
    "plt.ylabel(\"GDP percapita growth rate\")\n",
    "plt.title(\"MRI vs GDP percapita growth rate\")\n",
    "\n",
    "plt.show()\n"
   ]
  },
  {
   "cell_type": "code",
   "execution_count": null,
   "metadata": {},
   "outputs": [],
   "source": []
  }
 ],
 "metadata": {
  "kernelspec": {
   "display_name": "Python 3",
   "language": "python",
   "name": "python3"
  },
  "language_info": {
   "codemirror_mode": {
    "name": "ipython",
    "version": 3
   },
   "file_extension": ".py",
   "mimetype": "text/x-python",
   "name": "python",
   "nbconvert_exporter": "python",
   "pygments_lexer": "ipython3",
   "version": "3.7.6"
  }
 },
 "nbformat": 4,
 "nbformat_minor": 4
}
