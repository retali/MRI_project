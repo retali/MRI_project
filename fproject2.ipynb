{
 "cells": [
  {
   "cell_type": "code",
   "execution_count": 1,
   "metadata": {},
   "outputs": [],
   "source": [
    "import matplotlib.pyplot as plt\n",
    "import pandas as pd\n",
    "import scipy.stats as st\n",
    "import numpy as np\n",
    "from scipy.stats import linregress\n",
    "\n",
    "#Latin American economies: 15 contries\n",
    "#Each country has around 40 years of data\n",
    "#All dataset were provided by the International Monetary Fund\n",
    "# https://www.imf.org/external/pubs/ft/weo/2019/01/weodata/weoselagr.aspx\n",
    "\n",
    "#Macroeconomic Result Index (MRI) is an Index developed by Jose Ignacio Diaz Rettali\n",
    "\n",
    "#Analysis for 15 Latin American economies based on the Macroeconomic Result Index (MRI)\n",
    "# MRI = (real GDP rate / (inflation rate / unemployment rate)) * 1000\n",
    "# In order to demonstrate the strong relationship between the MRI and real GDP percapita growth rate,\n",
    "# it is calcualted the R-squared for these variables to each country, and it is also\n",
    "# needed to show the distribution around the mean R-squared\n",
    "#The R-squared is calculated between the MRI and the real GDP percapita rate\n",
    "\n",
    "Data1 = \"data/bolivia.csv\"\n",
    "Data2 = \"data/brazil.csv\"\n",
    "Data3 = \"data/chile.csv\"\n",
    "Data4 = \"data/colombia.csv\"\n",
    "Data5 = \"data/ecuador.csv\"\n",
    "Data6 = \"data/mexico.csv\"\n",
    "Data7 = \"data/paraguay.csv\"\n",
    "Data8 = \"data/peru.csv\"\n",
    "Data9 = \"data/uruguay.csv\"\n",
    "Data10 = \"data/venezuela.csv\"\n",
    "Data11 = \"data/argentina.csv\"\n",
    "Data12 = \"data/costarica.csv\"\n",
    "Data13 = \"data/elsalvador.csv\"\n",
    "Data14 = \"data/nicaragua.csv\"\n",
    "Data15 = \"data/panama.csv\"\n",
    "\n",
    "dataW1 = pd.read_csv(Data1)\n",
    "dataW2 = pd.read_csv(Data2)\n",
    "dataW3 = pd.read_csv(Data3)\n",
    "dataW4 = pd.read_csv(Data4)\n",
    "dataW5 = pd.read_csv(Data5)\n",
    "dataW6 = pd.read_csv(Data6)\n",
    "dataW7 = pd.read_csv(Data7)\n",
    "dataW8 = pd.read_csv(Data8)\n",
    "dataW9 = pd.read_csv(Data9)\n",
    "dataW10 = pd.read_csv(Data10)\n",
    "dataW11 = pd.read_csv(Data11)\n",
    "dataW12 = pd.read_csv(Data12)\n",
    "dataW13 = pd.read_csv(Data13)\n",
    "dataW14 = pd.read_csv(Data14)\n",
    "dataW15 = pd.read_csv(Data15)\n",
    "\n",
    "#List of countries with their Rsquared\n",
    "datars = []\n",
    "#List of countries with their mean MRI\n",
    "datamri = []\n",
    "#List of countries with their mean real GDP percapita rate\n",
    "datameanGDPpc = []\n",
    "\n",
    "countries = ['Bolivia', 'Brazil', 'Chile', 'Colombia', 'Ecuador', 'Mexico', 'Paraguay', 'Peru', 'Uruguay',\n",
    "             'Venezuela', 'Argentina', 'Costa Rica', 'El Salvador', 'Nicaragua', 'Panama']\n",
    "dfrs = pd.DataFrame(countries, columns = [\"Countries\"])\n",
    "\n",
    "#dfrs\n"
   ]
  },
  {
   "cell_type": "code",
   "execution_count": 2,
   "metadata": {},
   "outputs": [],
   "source": [
    "#Bolivia\n",
    "#calculating the Macroeconomic Result Index (MRI)\n",
    "\n",
    "dataW1['mri'] = (dataW1[\"gdprate\"] / (dataW1[\"infrate\"] + dataW1[\"unemprate\"])) * 1000\n",
    "#dataW1.head() #in case you want to see the dataset\n",
    "meanr = dataW1['mri'].mean()\n",
    "#print(f\"Mean of MRI = {round(meanr,1)}\") #in case you want to print out the mean of MRI\n",
    "datamri.append(meanr) # to append mean to the list\n",
    "meanGDPpc = dataW1['gdppcrate'].mean()\n",
    "datameanGDPpc.append(meanGDPpc) #to append mean to the list\n"
   ]
  },
  {
   "cell_type": "code",
   "execution_count": 3,
   "metadata": {},
   "outputs": [],
   "source": [
    "#calculating the R-squared\n",
    "\n",
    "(slope, intercept, rvalue, pvalue, stderr) = linregress(dataW1[\"mri\"], dataW1[\"gdppcrate\"])\n",
    "#print(f\"R-squared: MRI vs GDP percapita rate = {round((rvalue * rvalue),3)}\")\n",
    "datars.append(rvalue * rvalue) #to append the R-squared to the list\n"
   ]
  },
  {
   "cell_type": "code",
   "execution_count": 4,
   "metadata": {},
   "outputs": [],
   "source": [
    "#Brazil\n",
    "#calculating the Macroeconomic Result Index (MRI)\n",
    "\n",
    "dataW2['mri'] = (dataW2[\"gdprate\"] / (dataW2[\"infrate\"] + dataW2[\"unemprate\"])) * 1000\n",
    "#dataW2.head() #in case you want to see the dataset\n",
    "meanr = dataW2['mri'].mean()\n",
    "#print(f\"Mean of MRI = {round(meanr,1)}\") #in case you want to print out the mean of MRI\n",
    "datamri.append(meanr) # to append mean to the list\n",
    "meanGDPpc = dataW2['gdppcrate'].mean()\n",
    "datameanGDPpc.append(meanGDPpc) #to append mean to the list\n"
   ]
  },
  {
   "cell_type": "code",
   "execution_count": 5,
   "metadata": {},
   "outputs": [],
   "source": [
    "#calculating the R-squared\n",
    "\n",
    "(slope, intercept, rvalue, pvalue, stderr) = linregress(dataW2[\"mri\"], dataW2[\"gdppcrate\"])\n",
    "#print(f\"R-squared: MRI vs GDP percapita rate = {round((rvalue * rvalue),3)}\")\n",
    "datars.append(rvalue * rvalue)\n"
   ]
  },
  {
   "cell_type": "code",
   "execution_count": 6,
   "metadata": {},
   "outputs": [],
   "source": [
    "#Chile\n",
    "#calculating the Macroeconomic Result Index (MRI)\n",
    "\n",
    "dataW3['mri'] = (dataW3[\"gdprate\"] / (dataW3[\"infrate\"] + dataW3[\"unemprate\"])) * 1000\n",
    "#dataW3.head() #in case you want to see the dataset\n",
    "meanr = dataW3['mri'].mean()\n",
    "#print(f\"Mean of MRI = {round(meanr,1)}\") #in case you want to print out the mean of MRI\n",
    "datamri.append(meanr) # to append mean to the list\n",
    "meanGDPpc = dataW3['gdppcrate'].mean()\n",
    "datameanGDPpc.append(meanGDPpc) #to append mean to the list\n"
   ]
  },
  {
   "cell_type": "code",
   "execution_count": 7,
   "metadata": {},
   "outputs": [],
   "source": [
    "#calculating the R-squared\n",
    "\n",
    "(slope, intercept, rvalue, pvalue, stderr) = linregress(dataW3[\"mri\"], dataW3[\"gdppcrate\"])\n",
    "#print(f\"R-squared: MRI vs GDP percapita rate = {round((rvalue * rvalue),3)}\")\n",
    "datars.append(rvalue * rvalue)\n"
   ]
  },
  {
   "cell_type": "code",
   "execution_count": 8,
   "metadata": {},
   "outputs": [],
   "source": [
    "#Colombia\n",
    "#calculating the Macroeconomic Result Index (MRI)\n",
    "\n",
    "dataW4['mri'] = (dataW4[\"gdprate\"] / (dataW4[\"infrate\"] + dataW4[\"unemprate\"])) * 1000\n",
    "#dataW4.head() #in case you want to see the dataset\n",
    "meanr = dataW4['mri'].mean()\n",
    "#print(f\"Mean of MRI = {round(meanr,1)}\") #in case you want to print out the mean of MRI\n",
    "datamri.append(meanr) # to append mean to the list\n",
    "meanGDPpc = dataW4['gdppcrate'].mean()\n",
    "datameanGDPpc.append(meanGDPpc) #to append mean to the list\n"
   ]
  },
  {
   "cell_type": "code",
   "execution_count": 9,
   "metadata": {},
   "outputs": [],
   "source": [
    "#calculating the R-squared\n",
    "\n",
    "(slope, intercept, rvalue, pvalue, stderr) = linregress(dataW4[\"mri\"], dataW4[\"gdppcrate\"])\n",
    "#print(f\"R-squared: MRI vs GDP percapita rate = {round((rvalue * rvalue),3)}\")\n",
    "datars.append(rvalue * rvalue)\n"
   ]
  },
  {
   "cell_type": "code",
   "execution_count": 10,
   "metadata": {},
   "outputs": [],
   "source": [
    "#Ecuador\n",
    "#calculating the Macroeconomic Result Index (MRI)\n",
    "\n",
    "dataW5['mri'] = (dataW5[\"gdprate\"] / (dataW5[\"infrate\"] + dataW5[\"unemprate\"])) * 1000\n",
    "#dataW5.head() #in case you want to see the dataset\n",
    "meanr = dataW5['mri'].mean()\n",
    "#print(f\"Mean of MRI = {round(meanr,1)}\") #in case you want to print out the mean of MRI\n",
    "datamri.append(meanr) # to append mean to the list\n",
    "meanGDPpc = dataW5['gdppcrate'].mean()\n",
    "datameanGDPpc.append(meanGDPpc) #to append mean to the list\n"
   ]
  },
  {
   "cell_type": "code",
   "execution_count": 11,
   "metadata": {},
   "outputs": [],
   "source": [
    "#calculating the R-squared\n",
    "\n",
    "(slope, intercept, rvalue, pvalue, stderr) = linregress(dataW5[\"mri\"], dataW5[\"gdppcrate\"])\n",
    "#print(f\"R-squared: MRI vs GDP percapita rate = {round((rvalue * rvalue),3)}\")\n",
    "datars.append(rvalue * rvalue)\n"
   ]
  },
  {
   "cell_type": "code",
   "execution_count": 12,
   "metadata": {},
   "outputs": [],
   "source": [
    "#Mexico\n",
    "#calculating the Macroeconomic Result Index (MRI)\n",
    "\n",
    "dataW6['mri'] = (dataW6[\"gdprate\"] / (dataW6[\"infrate\"] + dataW6[\"unemprate\"])) * 1000\n",
    "#dataW6.head() #in case you want to see the dataset\n",
    "meanr = dataW6['mri'].mean()\n",
    "#print(f\"Mean of MRI = {round(meanr,1)}\") #in case you want to print out the mean of MRI\n",
    "datamri.append(meanr) # to append mean to the list\n",
    "meanGDPpc = dataW6['gdppcrate'].mean()\n",
    "datameanGDPpc.append(meanGDPpc) #to append mean to the list\n"
   ]
  },
  {
   "cell_type": "code",
   "execution_count": 13,
   "metadata": {},
   "outputs": [],
   "source": [
    "#calculating the R-squared\n",
    "\n",
    "(slope, intercept, rvalue, pvalue, stderr) = linregress(dataW6[\"mri\"], dataW6[\"gdppcrate\"])\n",
    "#print(f\"R-squared: MRI vs GDP percapita rate = {round((rvalue * rvalue),3)}\")\n",
    "datars.append(rvalue * rvalue)\n"
   ]
  },
  {
   "cell_type": "code",
   "execution_count": 14,
   "metadata": {},
   "outputs": [],
   "source": [
    "#Paraguay\n",
    "#calculating the Macroeconomic Result Index (MRI)\n",
    "\n",
    "dataW7['mri'] = (dataW7[\"gdprate\"] / (dataW7[\"infrate\"] + dataW7[\"unemprate\"])) * 1000\n",
    "#dataW7.head() #in case you want to see the dataset\n",
    "meanr = dataW7['mri'].mean()\n",
    "#print(f\"Mean of MRI = {round(meanr,1)}\") #in case you want to print out the mean of MRI\n",
    "datamri.append(meanr) # to append mean to the list\n",
    "meanGDPpc = dataW7['gdppcrate'].mean()\n",
    "datameanGDPpc.append(meanGDPpc) #to append mean to the list\n"
   ]
  },
  {
   "cell_type": "code",
   "execution_count": 15,
   "metadata": {},
   "outputs": [],
   "source": [
    "#calculating the R-squared\n",
    "\n",
    "(slope, intercept, rvalue, pvalue, stderr) = linregress(dataW7[\"mri\"], dataW7[\"gdppcrate\"])\n",
    "#print(f\"R-squared: MRI vs GDP percapita rate = {round((rvalue * rvalue),3)}\")\n",
    "datars.append(rvalue * rvalue)\n"
   ]
  },
  {
   "cell_type": "code",
   "execution_count": 16,
   "metadata": {},
   "outputs": [],
   "source": [
    "#Peru\n",
    "#calculating the Macroeconomic Result Index (MRI)\n",
    "\n",
    "dataW8['mri'] = (dataW8[\"gdprate\"] / (dataW8[\"infrate\"] + dataW8[\"unemprate\"])) * 1000\n",
    "#dataW8.head() #in case you want to see the datase\n",
    "meanr = dataW8['mri'].mean()\n",
    "#print(f\"Mean of MRI = {round(meanr,1)}\") #in case you want to print out the mean of MRI\n",
    "datamri.append(meanr) # to append mean to the list\n",
    "meanGDPpc = dataW8['gdppcrate'].mean()\n",
    "datameanGDPpc.append(meanGDPpc) #to append mean to the list\n"
   ]
  },
  {
   "cell_type": "code",
   "execution_count": 17,
   "metadata": {},
   "outputs": [],
   "source": [
    "#calculating the R-squared\n",
    "\n",
    "(slope, intercept, rvalue, pvalue, stderr) = linregress(dataW8[\"mri\"], dataW8[\"gdppcrate\"])\n",
    "#print(f\"R-squared: MRI vs GDP percapita rate = {round((rvalue * rvalue),3)}\")\n",
    "datars.append(rvalue * rvalue)\n"
   ]
  },
  {
   "cell_type": "code",
   "execution_count": 18,
   "metadata": {},
   "outputs": [],
   "source": [
    "#Uruguay\n",
    "#calculating the Macroeconomic Result Index (MRI)\n",
    "\n",
    "dataW9['mri'] = (dataW9[\"gdprate\"] / (dataW9[\"infrate\"] + dataW9[\"unemprate\"])) * 1000\n",
    "#dataW9.head() #in case you want to see the datase\n",
    "meanr = dataW9['mri'].mean()\n",
    "#print(f\"Mean of MRI = {round(meanr,1)}\") #in case you want to print out the mean of MRI\n",
    "datamri.append(meanr) # to append mean to the list\n",
    "meanGDPpc = dataW9['gdppcrate'].mean()\n",
    "datameanGDPpc.append(meanGDPpc) #to append mean to the list\n"
   ]
  },
  {
   "cell_type": "code",
   "execution_count": 19,
   "metadata": {},
   "outputs": [],
   "source": [
    "#calculating the R-squared\n",
    "\n",
    "(slope, intercept, rvalue, pvalue, stderr) = linregress(dataW9[\"mri\"], dataW9[\"gdppcrate\"])\n",
    "#print(f\"R-squared: MRI vs GDP percapita rate = {round((rvalue * rvalue),3)}\")\n",
    "datars.append(rvalue * rvalue)\n"
   ]
  },
  {
   "cell_type": "code",
   "execution_count": 20,
   "metadata": {},
   "outputs": [],
   "source": [
    "#Venezuela\n",
    "#calculating the Macroeconomic Result Index (MRI)\n",
    "\n",
    "dataW10['mri'] = (dataW10[\"gdprate\"] / (dataW10[\"infrate\"] + dataW10[\"unemprate\"])) * 1000\n",
    "#dataW10.head #in case you want to see the datase\n",
    "meanr = dataW10['mri'].mean()\n",
    "#print(f\"Mean of MRI = {round(meanr,1)}\") #in case you want to print out the mean of MRI\n",
    "datamri.append(meanr) # to append mean to the list\n",
    "meanGDPpc = dataW10['gdppcrate'].mean()\n",
    "datameanGDPpc.append(meanGDPpc) #to append mean to the list\n"
   ]
  },
  {
   "cell_type": "code",
   "execution_count": 21,
   "metadata": {},
   "outputs": [],
   "source": [
    "#calculating the R-squared\n",
    "\n",
    "(slope, intercept, rvalue, pvalue, stderr) = linregress(dataW10[\"mri\"], dataW10[\"gdppcrate\"])\n",
    "#print(f\"R-squared: MRI vs GDP percapita rate = {round((rvalue * rvalue),3)}\")\n",
    "datars.append(rvalue * rvalue)\n"
   ]
  },
  {
   "cell_type": "code",
   "execution_count": 22,
   "metadata": {},
   "outputs": [],
   "source": [
    "#Argentina\n",
    "#calculating the Macroeconomic Result Index (MRI)\n",
    "\n",
    "dataW11['mri'] = (dataW11[\"gdprate\"] / (dataW11[\"infrate\"] + dataW11[\"unemprate\"])) * 1000\n",
    "#dataW11.head #in case you want to see the datase\n",
    "meanr = dataW11['mri'].mean()\n",
    "#print(f\"Mean of MRI = {round(meanr,1)}\") #in case you want to print out the mean of MRI\n",
    "datamri.append(meanr) # to append mean to the list\n",
    "meanGDPpc = dataW11['gdppcrate'].mean()\n",
    "datameanGDPpc.append(meanGDPpc) #to append mean to the list\n"
   ]
  },
  {
   "cell_type": "code",
   "execution_count": 23,
   "metadata": {},
   "outputs": [],
   "source": [
    "#calculating the R-squared\n",
    "\n",
    "(slope, intercept, rvalue, pvalue, stderr) = linregress(dataW11[\"mri\"], dataW11[\"gdppcrate\"])\n",
    "#print(f\"R-squared: MRI vs GDP percapita rate = {round((rvalue * rvalue),3)}\")\n",
    "datars.append(rvalue * rvalue)\n"
   ]
  },
  {
   "cell_type": "code",
   "execution_count": 24,
   "metadata": {},
   "outputs": [],
   "source": [
    "#Costa Rica\n",
    "#calculating the Macroeconomic Result Index (MRI)\n",
    "\n",
    "dataW12['mri'] = (dataW12[\"gdprate\"] / (dataW12[\"infrate\"] + dataW12[\"unemprate\"])) * 1000\n",
    "#dataW12.head #in case you want to see the datase\n",
    "meanr = dataW12['mri'].mean()\n",
    "#print(f\"Mean of MRI = {round(meanr,1)}\") #in case you want to print out the mean of MRI\n",
    "datamri.append(meanr) # to append mean to the list\n",
    "meanGDPpc = dataW12['gdppcrate'].mean()\n",
    "datameanGDPpc.append(meanGDPpc) #to append mean to the list\n"
   ]
  },
  {
   "cell_type": "code",
   "execution_count": 25,
   "metadata": {},
   "outputs": [],
   "source": [
    "#calculating the R-squared\n",
    "\n",
    "(slope, intercept, rvalue, pvalue, stderr) = linregress(dataW12[\"mri\"], dataW12[\"gdppcrate\"])\n",
    "#print(f\"R-squared: MRI vs GDP percapita rate = {round((rvalue * rvalue),3)}\")\n",
    "datars.append(rvalue * rvalue)\n"
   ]
  },
  {
   "cell_type": "code",
   "execution_count": 26,
   "metadata": {},
   "outputs": [],
   "source": [
    "#El Salvador\n",
    "#calculating the Macroeconomic Result Index (MRI)\n",
    "\n",
    "dataW13['mri'] = (dataW13[\"gdprate\"] / (dataW13[\"infrate\"] + dataW13[\"unemprate\"])) * 1000\n",
    "#dataW13.head #in case you want to see the datase\n",
    "meanr = dataW13['mri'].mean()\n",
    "#print(f\"Mean of MRI = {round(meanr,1)}\") #in case you want to print out the mean of MRI\n",
    "datamri.append(meanr) # to append mean to the list\n",
    "meanGDPpc = dataW13['gdppcrate'].mean()\n",
    "datameanGDPpc.append(meanGDPpc) #to append mean to the list\n"
   ]
  },
  {
   "cell_type": "code",
   "execution_count": 27,
   "metadata": {},
   "outputs": [],
   "source": [
    "#calculating the R-squared\n",
    "\n",
    "(slope, intercept, rvalue, pvalue, stderr) = linregress(dataW13[\"mri\"], dataW13[\"gdppcrate\"])\n",
    "#print(f\"R-squared: MRI vs GDP percapita rate = {round((rvalue * rvalue),3)}\")\n",
    "datars.append(rvalue * rvalue)\n"
   ]
  },
  {
   "cell_type": "code",
   "execution_count": 28,
   "metadata": {},
   "outputs": [],
   "source": [
    "#Nicaragua\n",
    "#calculating the Macroeconomic Result Index (MRI)\n",
    "\n",
    "dataW14['mri'] = (dataW14[\"gdprate\"] / (dataW14[\"infrate\"] + dataW14[\"unemprate\"])) * 1000\n",
    "#dataW14.head #in case you want to see the datase\n",
    "meanr = dataW14['mri'].mean()\n",
    "#print(f\"Mean of MRI = {round(meanr,1)}\") #in case you want to print out the mean of MRI\n",
    "datamri.append(meanr) # to append mean to the list\n",
    "meanGDPpc = dataW14['gdppcrate'].mean()\n",
    "datameanGDPpc.append(meanGDPpc) #to append mean to the list\n"
   ]
  },
  {
   "cell_type": "code",
   "execution_count": 29,
   "metadata": {},
   "outputs": [],
   "source": [
    "#calculating the R-squared\n",
    "\n",
    "(slope, intercept, rvalue, pvalue, stderr) = linregress(dataW14[\"mri\"], dataW14[\"gdppcrate\"])\n",
    "#print(f\"R-squared: MRI vs GDP percapita rate = {round((rvalue * rvalue),3)}\")\n",
    "datars.append(rvalue * rvalue)\n"
   ]
  },
  {
   "cell_type": "code",
   "execution_count": 30,
   "metadata": {},
   "outputs": [],
   "source": [
    "#Panama\n",
    "#calculating the Macroeconomic Result Index (MRI)\n",
    "\n",
    "dataW15['mri'] = (dataW15[\"gdprate\"] / (dataW15[\"infrate\"] + dataW15[\"unemprate\"])) * 1000\n",
    "#dataW15.head #in case you want to see the datase\n",
    "meanr = dataW15['mri'].mean()\n",
    "#print(f\"Mean of MRI = {round(meanr,1)}\") #in case you want to print out the mean of MRI\n",
    "datamri.append(meanr) # to append mean to the list\n",
    "meanGDPpc = dataW15['gdppcrate'].mean()\n",
    "datameanGDPpc.append(meanGDPpc) #to append mean to the list\n"
   ]
  },
  {
   "cell_type": "code",
   "execution_count": 31,
   "metadata": {},
   "outputs": [],
   "source": [
    "#calculating the R-squared\n",
    "\n",
    "(slope, intercept, rvalue, pvalue, stderr) = linregress(dataW15[\"mri\"], dataW15[\"gdppcrate\"])\n",
    "#print(f\"R-squared: MRI vs GDP percapita rate = {round((rvalue * rvalue),3)}\")\n",
    "datars.append(rvalue * rvalue)\n"
   ]
  },
  {
   "cell_type": "code",
   "execution_count": 32,
   "metadata": {},
   "outputs": [
    {
     "data": {
      "text/html": [
       "<div>\n",
       "<style scoped>\n",
       "    .dataframe tbody tr th:only-of-type {\n",
       "        vertical-align: middle;\n",
       "    }\n",
       "\n",
       "    .dataframe tbody tr th {\n",
       "        vertical-align: top;\n",
       "    }\n",
       "\n",
       "    .dataframe thead th {\n",
       "        text-align: right;\n",
       "    }\n",
       "</style>\n",
       "<table border=\"1\" class=\"dataframe\">\n",
       "  <thead>\n",
       "    <tr style=\"text-align: right;\">\n",
       "      <th></th>\n",
       "      <th>Countries</th>\n",
       "      <th>Rsquared</th>\n",
       "    </tr>\n",
       "  </thead>\n",
       "  <tbody>\n",
       "    <tr>\n",
       "      <th>0</th>\n",
       "      <td>Bolivia</td>\n",
       "      <td>0.630256</td>\n",
       "    </tr>\n",
       "    <tr>\n",
       "      <th>1</th>\n",
       "      <td>Brazil</td>\n",
       "      <td>0.765704</td>\n",
       "    </tr>\n",
       "    <tr>\n",
       "      <th>2</th>\n",
       "      <td>Chile</td>\n",
       "      <td>0.704532</td>\n",
       "    </tr>\n",
       "    <tr>\n",
       "      <th>3</th>\n",
       "      <td>Colombia</td>\n",
       "      <td>0.779648</td>\n",
       "    </tr>\n",
       "    <tr>\n",
       "      <th>4</th>\n",
       "      <td>Ecuador</td>\n",
       "      <td>0.606766</td>\n",
       "    </tr>\n",
       "    <tr>\n",
       "      <th>5</th>\n",
       "      <td>Mexico</td>\n",
       "      <td>0.642164</td>\n",
       "    </tr>\n",
       "    <tr>\n",
       "      <th>6</th>\n",
       "      <td>Paraguay</td>\n",
       "      <td>0.778400</td>\n",
       "    </tr>\n",
       "    <tr>\n",
       "      <th>7</th>\n",
       "      <td>Peru</td>\n",
       "      <td>0.475941</td>\n",
       "    </tr>\n",
       "    <tr>\n",
       "      <th>8</th>\n",
       "      <td>Uruguay</td>\n",
       "      <td>0.667945</td>\n",
       "    </tr>\n",
       "    <tr>\n",
       "      <th>9</th>\n",
       "      <td>Venezuela</td>\n",
       "      <td>0.744267</td>\n",
       "    </tr>\n",
       "    <tr>\n",
       "      <th>10</th>\n",
       "      <td>Argentina</td>\n",
       "      <td>0.897750</td>\n",
       "    </tr>\n",
       "    <tr>\n",
       "      <th>11</th>\n",
       "      <td>Costa Rica</td>\n",
       "      <td>0.753885</td>\n",
       "    </tr>\n",
       "    <tr>\n",
       "      <th>12</th>\n",
       "      <td>El Salvador</td>\n",
       "      <td>0.757796</td>\n",
       "    </tr>\n",
       "    <tr>\n",
       "      <th>13</th>\n",
       "      <td>Nicaragua</td>\n",
       "      <td>0.878611</td>\n",
       "    </tr>\n",
       "    <tr>\n",
       "      <th>14</th>\n",
       "      <td>Panama</td>\n",
       "      <td>0.813143</td>\n",
       "    </tr>\n",
       "  </tbody>\n",
       "</table>\n",
       "</div>"
      ],
      "text/plain": [
       "      Countries  Rsquared\n",
       "0       Bolivia  0.630256\n",
       "1        Brazil  0.765704\n",
       "2         Chile  0.704532\n",
       "3      Colombia  0.779648\n",
       "4       Ecuador  0.606766\n",
       "5        Mexico  0.642164\n",
       "6      Paraguay  0.778400\n",
       "7          Peru  0.475941\n",
       "8       Uruguay  0.667945\n",
       "9     Venezuela  0.744267\n",
       "10    Argentina  0.897750\n",
       "11   Costa Rica  0.753885\n",
       "12  El Salvador  0.757796\n",
       "13    Nicaragua  0.878611\n",
       "14       Panama  0.813143"
      ]
     },
     "execution_count": 32,
     "metadata": {},
     "output_type": "execute_result"
    }
   ],
   "source": [
    "#Analysis of the R-squared for each of the latin countries\n",
    "#dfrs.head()\n",
    "#take the list to dataframe\n",
    "\n",
    "dfrs[\"Rsquared\"] = datars\n",
    "dfrs\n"
   ]
  },
  {
   "cell_type": "code",
   "execution_count": 33,
   "metadata": {},
   "outputs": [
    {
     "data": {
      "text/html": [
       "<div>\n",
       "<style scoped>\n",
       "    .dataframe tbody tr th:only-of-type {\n",
       "        vertical-align: middle;\n",
       "    }\n",
       "\n",
       "    .dataframe tbody tr th {\n",
       "        vertical-align: top;\n",
       "    }\n",
       "\n",
       "    .dataframe thead th {\n",
       "        text-align: right;\n",
       "    }\n",
       "</style>\n",
       "<table border=\"1\" class=\"dataframe\">\n",
       "  <thead>\n",
       "    <tr style=\"text-align: right;\">\n",
       "      <th></th>\n",
       "      <th>Rsquared</th>\n",
       "    </tr>\n",
       "  </thead>\n",
       "  <tbody>\n",
       "    <tr>\n",
       "      <th>count</th>\n",
       "      <td>15.000000</td>\n",
       "    </tr>\n",
       "    <tr>\n",
       "      <th>mean</th>\n",
       "      <td>0.726454</td>\n",
       "    </tr>\n",
       "    <tr>\n",
       "      <th>std</th>\n",
       "      <td>0.109046</td>\n",
       "    </tr>\n",
       "    <tr>\n",
       "      <th>min</th>\n",
       "      <td>0.475941</td>\n",
       "    </tr>\n",
       "    <tr>\n",
       "      <th>25%</th>\n",
       "      <td>0.655054</td>\n",
       "    </tr>\n",
       "    <tr>\n",
       "      <th>50%</th>\n",
       "      <td>0.753885</td>\n",
       "    </tr>\n",
       "    <tr>\n",
       "      <th>75%</th>\n",
       "      <td>0.779024</td>\n",
       "    </tr>\n",
       "    <tr>\n",
       "      <th>max</th>\n",
       "      <td>0.897750</td>\n",
       "    </tr>\n",
       "  </tbody>\n",
       "</table>\n",
       "</div>"
      ],
      "text/plain": [
       "        Rsquared\n",
       "count  15.000000\n",
       "mean    0.726454\n",
       "std     0.109046\n",
       "min     0.475941\n",
       "25%     0.655054\n",
       "50%     0.753885\n",
       "75%     0.779024\n",
       "max     0.897750"
      ]
     },
     "execution_count": 33,
     "metadata": {},
     "output_type": "execute_result"
    }
   ],
   "source": [
    "dfrs.describe()\n"
   ]
  },
  {
   "cell_type": "code",
   "execution_count": 34,
   "metadata": {},
   "outputs": [
    {
     "data": {
      "text/plain": [
       "Text(0, 0.5, 'Frequency')"
      ]
     },
     "execution_count": 34,
     "metadata": {},
     "output_type": "execute_result"
    },
    {
     "data": {
      "image/png": "[encoded data removed]",
      "text/plain": [
       "<Figure size 720x504 with 1 Axes>"
      ]
     },
     "metadata": {},
     "output_type": "display_data"
    }
   ],
   "source": [
    "plt.style.use('ggplot')\n",
    "\n",
    "# histogram of the R-squared\n",
    "\n",
    "dfrs.plot(kind = 'hist', color = 'purple', edgecolor = 'black', figsize = (10,7))\n",
    "plt.title(\"Distribution R-squared\", size = 24)\n",
    "plt.xlabel('R-squared', size = 18)\n",
    "plt.ylabel('Frequency', size = 18)\n"
   ]
  },
  {
   "cell_type": "code",
   "execution_count": 38,
   "metadata": {},
   "outputs": [],
   "source": [
    "#export to excel\n",
    "\n",
    "#pd.DataFrame(dfrs).to_excel('rsquared.xlsx', index=False)\n"
   ]
  },
  {
   "cell_type": "code",
   "execution_count": 35,
   "metadata": {},
   "outputs": [
    {
     "data": {
      "text/html": [
       "<div>\n",
       "<style scoped>\n",
       "    .dataframe tbody tr th:only-of-type {\n",
       "        vertical-align: middle;\n",
       "    }\n",
       "\n",
       "    .dataframe tbody tr th {\n",
       "        vertical-align: top;\n",
       "    }\n",
       "\n",
       "    .dataframe thead th {\n",
       "        text-align: right;\n",
       "    }\n",
       "</style>\n",
       "<table border=\"1\" class=\"dataframe\">\n",
       "  <thead>\n",
       "    <tr style=\"text-align: right;\">\n",
       "      <th></th>\n",
       "      <th>Countries</th>\n",
       "      <th>MRI-mean</th>\n",
       "    </tr>\n",
       "  </thead>\n",
       "  <tbody>\n",
       "    <tr>\n",
       "      <th>0</th>\n",
       "      <td>Bolivia</td>\n",
       "      <td>408.500299</td>\n",
       "    </tr>\n",
       "    <tr>\n",
       "      <th>1</th>\n",
       "      <td>Brazil</td>\n",
       "      <td>104.004980</td>\n",
       "    </tr>\n",
       "    <tr>\n",
       "      <th>2</th>\n",
       "      <td>Chile</td>\n",
       "      <td>276.873189</td>\n",
       "    </tr>\n",
       "    <tr>\n",
       "      <th>3</th>\n",
       "      <td>Colombia</td>\n",
       "      <td>168.645580</td>\n",
       "    </tr>\n",
       "    <tr>\n",
       "      <th>4</th>\n",
       "      <td>Ecuador</td>\n",
       "      <td>212.355644</td>\n",
       "    </tr>\n",
       "    <tr>\n",
       "      <th>5</th>\n",
       "      <td>Mexico</td>\n",
       "      <td>174.870038</td>\n",
       "    </tr>\n",
       "    <tr>\n",
       "      <th>6</th>\n",
       "      <td>Paraguay</td>\n",
       "      <td>219.030895</td>\n",
       "    </tr>\n",
       "    <tr>\n",
       "      <th>7</th>\n",
       "      <td>Peru</td>\n",
       "      <td>271.451484</td>\n",
       "    </tr>\n",
       "    <tr>\n",
       "      <th>8</th>\n",
       "      <td>Uruguay</td>\n",
       "      <td>117.806535</td>\n",
       "    </tr>\n",
       "    <tr>\n",
       "      <th>9</th>\n",
       "      <td>Venezuela</td>\n",
       "      <td>72.808103</td>\n",
       "    </tr>\n",
       "    <tr>\n",
       "      <th>10</th>\n",
       "      <td>Argentina</td>\n",
       "      <td>152.714369</td>\n",
       "    </tr>\n",
       "    <tr>\n",
       "      <th>11</th>\n",
       "      <td>Costa Rica</td>\n",
       "      <td>224.738099</td>\n",
       "    </tr>\n",
       "    <tr>\n",
       "      <th>12</th>\n",
       "      <td>El Salvador</td>\n",
       "      <td>194.807770</td>\n",
       "    </tr>\n",
       "    <tr>\n",
       "      <th>13</th>\n",
       "      <td>Nicaragua</td>\n",
       "      <td>199.822668</td>\n",
       "    </tr>\n",
       "    <tr>\n",
       "      <th>14</th>\n",
       "      <td>Panama</td>\n",
       "      <td>420.095678</td>\n",
       "    </tr>\n",
       "  </tbody>\n",
       "</table>\n",
       "</div>"
      ],
      "text/plain": [
       "      Countries    MRI-mean\n",
       "0       Bolivia  408.500299\n",
       "1        Brazil  104.004980\n",
       "2         Chile  276.873189\n",
       "3      Colombia  168.645580\n",
       "4       Ecuador  212.355644\n",
       "5        Mexico  174.870038\n",
       "6      Paraguay  219.030895\n",
       "7          Peru  271.451484\n",
       "8       Uruguay  117.806535\n",
       "9     Venezuela   72.808103\n",
       "10    Argentina  152.714369\n",
       "11   Costa Rica  224.738099\n",
       "12  El Salvador  194.807770\n",
       "13    Nicaragua  199.822668\n",
       "14       Panama  420.095678"
      ]
     },
     "execution_count": 35,
     "metadata": {},
     "output_type": "execute_result"
    }
   ],
   "source": [
    "#Analysis of the mean of the MRI for each of the latin american countries\n",
    "#dfmri.head()\n",
    "\n",
    "dfmri = pd.DataFrame(countries, columns = [\"Countries\"])\n",
    "dfmri[\"MRI-mean\"] = datamri\n",
    "#dfmri[\"MRI-mean\"] = dfmri[\"MRI-mean\"].map(\"{:.2f}\".format)\n",
    "dfmri\n"
   ]
  },
  {
   "cell_type": "code",
   "execution_count": 36,
   "metadata": {},
   "outputs": [
    {
     "data": {
      "text/html": [
       "<div>\n",
       "<style scoped>\n",
       "    .dataframe tbody tr th:only-of-type {\n",
       "        vertical-align: middle;\n",
       "    }\n",
       "\n",
       "    .dataframe tbody tr th {\n",
       "        vertical-align: top;\n",
       "    }\n",
       "\n",
       "    .dataframe thead th {\n",
       "        text-align: right;\n",
       "    }\n",
       "</style>\n",
       "<table border=\"1\" class=\"dataframe\">\n",
       "  <thead>\n",
       "    <tr style=\"text-align: right;\">\n",
       "      <th></th>\n",
       "      <th>MRI-mean</th>\n",
       "    </tr>\n",
       "  </thead>\n",
       "  <tbody>\n",
       "    <tr>\n",
       "      <th>count</th>\n",
       "      <td>15.000000</td>\n",
       "    </tr>\n",
       "    <tr>\n",
       "      <th>mean</th>\n",
       "      <td>214.568355</td>\n",
       "    </tr>\n",
       "    <tr>\n",
       "      <th>std</th>\n",
       "      <td>98.886177</td>\n",
       "    </tr>\n",
       "    <tr>\n",
       "      <th>min</th>\n",
       "      <td>72.808103</td>\n",
       "    </tr>\n",
       "    <tr>\n",
       "      <th>25%</th>\n",
       "      <td>160.679975</td>\n",
       "    </tr>\n",
       "    <tr>\n",
       "      <th>50%</th>\n",
       "      <td>199.822668</td>\n",
       "    </tr>\n",
       "    <tr>\n",
       "      <th>75%</th>\n",
       "      <td>248.094791</td>\n",
       "    </tr>\n",
       "    <tr>\n",
       "      <th>max</th>\n",
       "      <td>420.095678</td>\n",
       "    </tr>\n",
       "  </tbody>\n",
       "</table>\n",
       "</div>"
      ],
      "text/plain": [
       "         MRI-mean\n",
       "count   15.000000\n",
       "mean   214.568355\n",
       "std     98.886177\n",
       "min     72.808103\n",
       "25%    160.679975\n",
       "50%    199.822668\n",
       "75%    248.094791\n",
       "max    420.095678"
      ]
     },
     "execution_count": 36,
     "metadata": {},
     "output_type": "execute_result"
    }
   ],
   "source": [
    "dfmri.describe()\n"
   ]
  },
  {
   "cell_type": "code",
   "execution_count": 37,
   "metadata": {},
   "outputs": [
    {
     "data": {
      "text/plain": [
       "Text(0, 0.5, 'Frequency')"
      ]
     },
     "execution_count": 37,
     "metadata": {},
     "output_type": "execute_result"
    },
    {
     "data": {
      "image/png": "[encoded data removed]",
      "text/plain": [
       "<Figure size 720x504 with 1 Axes>"
      ]
     },
     "metadata": {},
     "output_type": "display_data"
    }
   ],
   "source": [
    "plt.style.use('ggplot')\n",
    "\n",
    "# histogram of the MRI-mean\n",
    "\n",
    "dfmri.plot(kind = 'hist', color = 'green', edgecolor = 'black', figsize = (10,7))\n",
    "plt.title(\"Distribution MRI -mean\", size = 24)\n",
    "plt.xlabel('MRI -mean', size = 18)\n",
    "plt.ylabel('Frequency', size = 18)\n"
   ]
  },
  {
   "cell_type": "code",
   "execution_count": 39,
   "metadata": {},
   "outputs": [],
   "source": [
    "#export to excel\n",
    "\n",
    "#pd.DataFrame(dfmri).to_excel('mrimean.xlsx', index=False)\n"
   ]
  },
  {
   "cell_type": "code",
   "execution_count": 38,
   "metadata": {},
   "outputs": [
    {
     "data": {
      "text/html": [
       "<div>\n",
       "<style scoped>\n",
       "    .dataframe tbody tr th:only-of-type {\n",
       "        vertical-align: middle;\n",
       "    }\n",
       "\n",
       "    .dataframe tbody tr th {\n",
       "        vertical-align: top;\n",
       "    }\n",
       "\n",
       "    .dataframe thead th {\n",
       "        text-align: right;\n",
       "    }\n",
       "</style>\n",
       "<table border=\"1\" class=\"dataframe\">\n",
       "  <thead>\n",
       "    <tr style=\"text-align: right;\">\n",
       "      <th></th>\n",
       "      <th>Countries</th>\n",
       "      <th>MRI-mean</th>\n",
       "      <th>gdppercapitarate-mean</th>\n",
       "    </tr>\n",
       "  </thead>\n",
       "  <tbody>\n",
       "    <tr>\n",
       "      <th>0</th>\n",
       "      <td>Bolivia</td>\n",
       "      <td>408.500299</td>\n",
       "      <td>2.061864</td>\n",
       "    </tr>\n",
       "    <tr>\n",
       "      <th>1</th>\n",
       "      <td>Brazil</td>\n",
       "      <td>104.004980</td>\n",
       "      <td>0.881935</td>\n",
       "    </tr>\n",
       "    <tr>\n",
       "      <th>2</th>\n",
       "      <td>Chile</td>\n",
       "      <td>276.873189</td>\n",
       "      <td>2.690357</td>\n",
       "    </tr>\n",
       "    <tr>\n",
       "      <th>3</th>\n",
       "      <td>Colombia</td>\n",
       "      <td>168.645580</td>\n",
       "      <td>1.774048</td>\n",
       "    </tr>\n",
       "    <tr>\n",
       "      <th>4</th>\n",
       "      <td>Ecuador</td>\n",
       "      <td>212.355644</td>\n",
       "      <td>1.135000</td>\n",
       "    </tr>\n",
       "    <tr>\n",
       "      <th>5</th>\n",
       "      <td>Mexico</td>\n",
       "      <td>174.870038</td>\n",
       "      <td>0.533439</td>\n",
       "    </tr>\n",
       "    <tr>\n",
       "      <th>6</th>\n",
       "      <td>Paraguay</td>\n",
       "      <td>219.030895</td>\n",
       "      <td>1.060513</td>\n",
       "    </tr>\n",
       "    <tr>\n",
       "      <th>7</th>\n",
       "      <td>Peru</td>\n",
       "      <td>271.451484</td>\n",
       "      <td>1.398000</td>\n",
       "    </tr>\n",
       "    <tr>\n",
       "      <th>8</th>\n",
       "      <td>Uruguay</td>\n",
       "      <td>117.806535</td>\n",
       "      <td>2.236333</td>\n",
       "    </tr>\n",
       "    <tr>\n",
       "      <th>9</th>\n",
       "      <td>Venezuela</td>\n",
       "      <td>72.808103</td>\n",
       "      <td>-2.122500</td>\n",
       "    </tr>\n",
       "    <tr>\n",
       "      <th>10</th>\n",
       "      <td>Argentina</td>\n",
       "      <td>152.714369</td>\n",
       "      <td>1.649313</td>\n",
       "    </tr>\n",
       "    <tr>\n",
       "      <th>11</th>\n",
       "      <td>Costa Rica</td>\n",
       "      <td>224.738099</td>\n",
       "      <td>1.585390</td>\n",
       "    </tr>\n",
       "    <tr>\n",
       "      <th>12</th>\n",
       "      <td>El Salvador</td>\n",
       "      <td>194.807770</td>\n",
       "      <td>1.540706</td>\n",
       "    </tr>\n",
       "    <tr>\n",
       "      <th>13</th>\n",
       "      <td>Nicaragua</td>\n",
       "      <td>199.822668</td>\n",
       "      <td>1.471741</td>\n",
       "    </tr>\n",
       "    <tr>\n",
       "      <th>14</th>\n",
       "      <td>Panama</td>\n",
       "      <td>420.095678</td>\n",
       "      <td>2.515810</td>\n",
       "    </tr>\n",
       "  </tbody>\n",
       "</table>\n",
       "</div>"
      ],
      "text/plain": [
       "      Countries    MRI-mean  gdppercapitarate-mean\n",
       "0       Bolivia  408.500299               2.061864\n",
       "1        Brazil  104.004980               0.881935\n",
       "2         Chile  276.873189               2.690357\n",
       "3      Colombia  168.645580               1.774048\n",
       "4       Ecuador  212.355644               1.135000\n",
       "5        Mexico  174.870038               0.533439\n",
       "6      Paraguay  219.030895               1.060513\n",
       "7          Peru  271.451484               1.398000\n",
       "8       Uruguay  117.806535               2.236333\n",
       "9     Venezuela   72.808103              -2.122500\n",
       "10    Argentina  152.714369               1.649313\n",
       "11   Costa Rica  224.738099               1.585390\n",
       "12  El Salvador  194.807770               1.540706\n",
       "13    Nicaragua  199.822668               1.471741\n",
       "14       Panama  420.095678               2.515810"
      ]
     },
     "execution_count": 38,
     "metadata": {},
     "output_type": "execute_result"
    }
   ],
   "source": [
    "#Let us see the mean real GDP percapita rate associated with the mean MRI for each country\n",
    "\n",
    "dfmri[\"gdppercapitarate-mean\"] = datameanGDPpc\n",
    "#dfmri[\"MRI-mean\"] = dfmri[\"MRI-mean\"].map(\"{:.1f}\".format)\n",
    "#dfmri[\"gdppercapitarate-mean\"] = dfmri[\"gdppercapitarate-mean\"].map(\"{:.1f}\".format)\n",
    "dfmri\n"
   ]
  },
  {
   "cell_type": "code",
   "execution_count": 39,
   "metadata": {},
   "outputs": [
    {
     "data": {
      "image/png": "[encoded data removed]",
      "text/plain": [
       "<Figure size 720x504 with 1 Axes>"
      ]
     },
     "metadata": {},
     "output_type": "display_data"
    }
   ],
   "source": [
    "#Now working with the bubble plot, showing MRI for each country\n",
    "\n",
    "x = dfmri['Countries']\n",
    "y = dfmri['MRI-mean']\n",
    "area = y * 6\n",
    "#The number 6 define the size of the buble\n",
    "N = dfmri['Countries'].count()\n",
    "colors = np.random.rand(N)\n",
    "\n",
    "plt.figure(figsize = (10,7))\n",
    "#plt.ylim(0, 350000)\n",
    "\n",
    "df = pd.DataFrame({\n",
    "    'X':x,\n",
    "    'Y':y,\n",
    "    'Colors': colors,\n",
    "    \"bubble_size\":area\n",
    "})\n",
    "plt.scatter('X', 'Y',\n",
    "            s='bubble_size',\n",
    "            c='Colors',\n",
    "            alpha = 0.5,\n",
    "            data = df)\n",
    "\n",
    "plt.title(\"MRI (300 = good performance) - Latin American Economies\", size = 16)\n",
    "plt.xlabel(\"Countries\", size = 16)\n",
    "plt.ylabel(\"Macroeconomic Result Index (MRI)\", size = 16)\n",
    "plt.xticks(rotation = 45)\n",
    "plt.grid(color = 'red', linestyle = '-.', linewidth = 0.3)\n",
    "\n",
    "plt.show()\n"
   ]
  },
  {
   "cell_type": "code",
   "execution_count": 44,
   "metadata": {},
   "outputs": [
    {
     "data": {
      "image/png": "[encoded data removed]",
      "text/plain": [
       "<Figure size 720x504 with 1 Axes>"
      ]
     },
     "metadata": {},
     "output_type": "display_data"
    }
   ],
   "source": [
    "#Now working with the bubble plot, showing MRI vs real GDP percapita rate for each country\n",
    "\n",
    "x = dfmri['MRI-mean']\n",
    "y = dfmri['gdppercapitarate-mean']\n",
    "area = y * 1000\n",
    "#The number 1000 define the size of the buble\n",
    "N = dfmri['Countries'].count()\n",
    "colors = np.random.rand(N)\n",
    "\n",
    "plt.figure(figsize = (10,7))\n",
    "#plt.ylim(0, 350000)\n",
    "\n",
    "df = pd.DataFrame({\n",
    "    'X':x,\n",
    "    'Y':y,\n",
    "    'Colors': colors,\n",
    "    \"bubble_size\":area\n",
    "})\n",
    "plt.scatter('X', 'Y',\n",
    "            s='bubble_size',\n",
    "            c='Colors',\n",
    "            alpha = 0.5,\n",
    "            data = df)\n",
    "\n",
    "plt.title(\"MRI (300 = good performance) vs real GDP percapita rate\", size = 14)\n",
    "plt.xlabel(\"Macroeconomic Result Index (MRI)\", size = 16)\n",
    "plt.ylabel(\"real GDP percapita rate (%)\", size = 16)\n",
    "#plt.xticks(rotation = 45)\n",
    "plt.grid(color = 'red', linestyle = '-.', linewidth = 0.3)\n",
    "\n",
    "plt.show()\n"
   ]
  },
  {
   "cell_type": "code",
   "execution_count": null,
   "metadata": {},
   "outputs": [],
   "source": [
    "\n"
   ]
  },
  {
   "cell_type": "code",
   "execution_count": null,
   "metadata": {},
   "outputs": [],
   "source": []
  }
 ],
 "metadata": {
  "kernelspec": {
   "display_name": "Python 3",
   "language": "python",
   "name": "python3"
  },
  "language_info": {
   "codemirror_mode": {
    "name": "ipython",
    "version": 3
   },
   "file_extension": ".py",
   "mimetype": "text/x-python",
   "name": "python",
   "nbconvert_exporter": "python",
   "pygments_lexer": "ipython3",
   "version": "3.7.6"
  }
 },
 "nbformat": 4,
 "nbformat_minor": 4
}
