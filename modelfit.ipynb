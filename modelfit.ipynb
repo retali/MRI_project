{
 "cells": [
  {
   "cell_type": "code",
   "execution_count": 1,
   "metadata": {},
   "outputs": [
    {
     "data": {
      "text/html": [
       "<div>\n",
       "<style scoped>\n",
       "    .dataframe tbody tr th:only-of-type {\n",
       "        vertical-align: middle;\n",
       "    }\n",
       "\n",
       "    .dataframe tbody tr th {\n",
       "        vertical-align: top;\n",
       "    }\n",
       "\n",
       "    .dataframe thead th {\n",
       "        text-align: right;\n",
       "    }\n",
       "</style>\n",
       "<table border=\"1\" class=\"dataframe\">\n",
       "  <thead>\n",
       "    <tr style=\"text-align: right;\">\n",
       "      <th></th>\n",
       "      <th>year</th>\n",
       "      <th>gdprate</th>\n",
       "      <th>infrate</th>\n",
       "      <th>unemprate</th>\n",
       "      <th>gdppcrate</th>\n",
       "    </tr>\n",
       "  </thead>\n",
       "  <tbody>\n",
       "    <tr>\n",
       "      <th>0</th>\n",
       "      <td>1980</td>\n",
       "      <td>-0.257</td>\n",
       "      <td>13.502</td>\n",
       "      <td>7.175</td>\n",
       "      <td>-1.405</td>\n",
       "    </tr>\n",
       "    <tr>\n",
       "      <th>1</th>\n",
       "      <td>1981</td>\n",
       "      <td>2.538</td>\n",
       "      <td>10.378</td>\n",
       "      <td>7.617</td>\n",
       "      <td>1.515</td>\n",
       "    </tr>\n",
       "    <tr>\n",
       "      <th>2</th>\n",
       "      <td>1982</td>\n",
       "      <td>-1.802</td>\n",
       "      <td>6.158</td>\n",
       "      <td>9.708</td>\n",
       "      <td>-2.738</td>\n",
       "    </tr>\n",
       "    <tr>\n",
       "      <th>3</th>\n",
       "      <td>1983</td>\n",
       "      <td>4.584</td>\n",
       "      <td>3.160</td>\n",
       "      <td>9.600</td>\n",
       "      <td>3.638</td>\n",
       "    </tr>\n",
       "    <tr>\n",
       "      <th>4</th>\n",
       "      <td>1984</td>\n",
       "      <td>7.237</td>\n",
       "      <td>4.368</td>\n",
       "      <td>7.508</td>\n",
       "      <td>6.302</td>\n",
       "    </tr>\n",
       "  </tbody>\n",
       "</table>\n",
       "</div>"
      ],
      "text/plain": [
       "   year  gdprate  infrate  unemprate  gdppcrate\n",
       "0  1980   -0.257   13.502      7.175     -1.405\n",
       "1  1981    2.538   10.378      7.617      1.515\n",
       "2  1982   -1.802    6.158      9.708     -2.738\n",
       "3  1983    4.584    3.160      9.600      3.638\n",
       "4  1984    7.237    4.368      7.508      6.302"
      ]
     },
     "execution_count": 1,
     "metadata": {},
     "output_type": "execute_result"
    }
   ],
   "source": [
    "import matplotlib.pyplot as plt\n",
    "import pandas as pd\n",
    "import scipy.stats as st\n",
    "import numpy as np\n",
    "from scipy.stats import linregress\n",
    "from sklearn.metrics import mean_squared_error, r2_score\n",
    "from sklearn import linear_model\n",
    "import statsmodels.api as sm\n",
    "\n",
    "Data = \"advecon.csv\"\n",
    "Data1 = \"usa.csv\"\n",
    "Data2 = \"canada.csv\"\n",
    "dataW = pd.read_csv(Data)\n",
    "dataW1 = pd.read_csv(Data1)\n",
    "dataW2 = pd.read_csv(Data2)\n",
    "\n",
    "#starting with US economy\n",
    "\n",
    "dataT = dataW1\n",
    "\n",
    "dataT.head()\n"
   ]
  },
  {
   "cell_type": "code",
   "execution_count": 2,
   "metadata": {},
   "outputs": [
    {
     "data": {
      "text/html": [
       "<div>\n",
       "<style scoped>\n",
       "    .dataframe tbody tr th:only-of-type {\n",
       "        vertical-align: middle;\n",
       "    }\n",
       "\n",
       "    .dataframe tbody tr th {\n",
       "        vertical-align: top;\n",
       "    }\n",
       "\n",
       "    .dataframe thead th {\n",
       "        text-align: right;\n",
       "    }\n",
       "</style>\n",
       "<table border=\"1\" class=\"dataframe\">\n",
       "  <thead>\n",
       "    <tr style=\"text-align: right;\">\n",
       "      <th></th>\n",
       "      <th>year</th>\n",
       "      <th>gdprate</th>\n",
       "      <th>infrate</th>\n",
       "      <th>unemprate</th>\n",
       "      <th>gdppcrate</th>\n",
       "      <th>mri</th>\n",
       "    </tr>\n",
       "  </thead>\n",
       "  <tbody>\n",
       "    <tr>\n",
       "      <th>0</th>\n",
       "      <td>1980</td>\n",
       "      <td>-0.257</td>\n",
       "      <td>13.502</td>\n",
       "      <td>7.175</td>\n",
       "      <td>-1.405</td>\n",
       "      <td>-12.429269</td>\n",
       "    </tr>\n",
       "    <tr>\n",
       "      <th>1</th>\n",
       "      <td>1981</td>\n",
       "      <td>2.538</td>\n",
       "      <td>10.378</td>\n",
       "      <td>7.617</td>\n",
       "      <td>1.515</td>\n",
       "      <td>141.039178</td>\n",
       "    </tr>\n",
       "    <tr>\n",
       "      <th>2</th>\n",
       "      <td>1982</td>\n",
       "      <td>-1.802</td>\n",
       "      <td>6.158</td>\n",
       "      <td>9.708</td>\n",
       "      <td>-2.738</td>\n",
       "      <td>-113.576201</td>\n",
       "    </tr>\n",
       "    <tr>\n",
       "      <th>3</th>\n",
       "      <td>1983</td>\n",
       "      <td>4.584</td>\n",
       "      <td>3.160</td>\n",
       "      <td>9.600</td>\n",
       "      <td>3.638</td>\n",
       "      <td>359.247649</td>\n",
       "    </tr>\n",
       "    <tr>\n",
       "      <th>4</th>\n",
       "      <td>1984</td>\n",
       "      <td>7.237</td>\n",
       "      <td>4.368</td>\n",
       "      <td>7.508</td>\n",
       "      <td>6.302</td>\n",
       "      <td>609.380263</td>\n",
       "    </tr>\n",
       "  </tbody>\n",
       "</table>\n",
       "</div>"
      ],
      "text/plain": [
       "   year  gdprate  infrate  unemprate  gdppcrate         mri\n",
       "0  1980   -0.257   13.502      7.175     -1.405  -12.429269\n",
       "1  1981    2.538   10.378      7.617      1.515  141.039178\n",
       "2  1982   -1.802    6.158      9.708     -2.738 -113.576201\n",
       "3  1983    4.584    3.160      9.600      3.638  359.247649\n",
       "4  1984    7.237    4.368      7.508      6.302  609.380263"
      ]
     },
     "execution_count": 2,
     "metadata": {},
     "output_type": "execute_result"
    }
   ],
   "source": [
    "#calculating the Macroeconomic Result Index (MRI)\n",
    "\n",
    "dataT['mri'] = (dataT[\"gdprate\"] / (dataT[\"infrate\"] + dataT[\"unemprate\"])) * 1000\n",
    "#print(dataT)\n",
    "\n",
    "dataT.head()\n"
   ]
  },
  {
   "cell_type": "code",
   "execution_count": 3,
   "metadata": {},
   "outputs": [
    {
     "data": {
      "text/plain": [
       "const   -0.898075\n",
       "mri      0.008152\n",
       "dtype: float64"
      ]
     },
     "execution_count": 3,
     "metadata": {},
     "output_type": "execute_result"
    }
   ],
   "source": [
    "#Preparing linear regression\n",
    "\n",
    "x = dataT['mri']\n",
    "y = dataT['gdppcrate']\n",
    "x = sm.add_constant(x)\n",
    "model = sm.OLS(y, x).fit()\n",
    "predictions = model.predict(x)\n",
    "mselinear = mean_squared_error(y, predictions)\n",
    "R2linear = r2_score(y, predictions)\n",
    "model.params\n"
   ]
  },
  {
   "cell_type": "code",
   "execution_count": 4,
   "metadata": {},
   "outputs": [
    {
     "data": {
      "image/png": "[encoded data removed]",
      "text/plain": [
       "<Figure size 720x576 with 1 Axes>"
      ]
     },
     "metadata": {},
     "output_type": "display_data"
    }
   ],
   "source": [
    "# Model fit for USA\n",
    "#Linear regression versus polynomial(2nd degree) regression\n",
    "\n",
    "plt.style.use('ggplot')\n",
    "plt.figure(figsize = (10,8))\n",
    "\n",
    "#linear regression\n",
    "\n",
    "(slope, intercept, rvalue, pvalue, stderr) = linregress(dataT[\"mri\"], dataT[\"gdppcrate\"])\n",
    "regressValues = dataT[\"mri\"]* slope + intercept\n",
    "lineEq = f\"y = {round(slope, 4)} x + {round(intercept, 4)}\"\n",
    "\n",
    "plt.scatter(dataT[\"mri\"], dataT[\"gdppcrate\"])\n",
    "plt.plot(dataT[\"mri\"], regressValues, color = \"green\", label = 'Linear')\n",
    "\n",
    "plt.xlabel(\"Macroeconomic Result Index (MRI)\")\n",
    "plt.ylabel(\"GDP percapita growth rate\")\n",
    "plt.title(\"Model fit - linear vs polynomial (2nd degree)\")\n",
    "\n",
    "# polynomial (2nd degree) regression\n",
    "\n",
    "deg = 2\n",
    "x = dataT[\"mri\"]\n",
    "y = dataT[\"gdppcrate\"]\n",
    "p = np.poly1d(np.polyfit(x, y, deg))\n",
    "\n",
    "R2poly = r2_score(y, p(x))\n",
    "\n",
    "#linspace: min and max in scale of x-axis\n",
    "t = np.linspace(-600, 1400)\n",
    "plt.plot(x, y, 'o', t, p(t), '-', label = 'Polynomial')\n",
    "msepoly = mean_squared_error(y, p(x))\n",
    "Scorelinear = f\"R2 = {round(R2linear, 4)}\"\n",
    "Scorelinear2 = f\"MSE = {round(mselinear, 4)}\"\n",
    "plt.annotate(Scorelinear,(-500,4), color = \"green\", fontsize=12)\n",
    "plt.annotate(Scorelinear2,(-500,3), color = \"green\", fontsize=12)\n",
    "plt.annotate(lineEq,(-500,5), color = \"green\", fontsize=14)\n",
    "Scorepoly = f\"Polynomial:  R2 = {round(R2poly, 4)}  MSE = {round(msepoly, 4)}\"\n",
    "plt.annotate(Scorepoly,(250,-6), color = \"blue\", fontsize=12)\n",
    "\n",
    "plt.legend()\n",
    "plt.show()\n"
   ]
  },
  {
   "cell_type": "code",
   "execution_count": null,
   "metadata": {},
   "outputs": [],
   "source": [
    "\n"
   ]
  },
  {
   "cell_type": "code",
   "execution_count": null,
   "metadata": {},
   "outputs": [],
   "source": [
    "\n"
   ]
  },
  {
   "cell_type": "code",
   "execution_count": null,
   "metadata": {},
   "outputs": [],
   "source": []
  }
 ],
 "metadata": {
  "kernelspec": {
   "display_name": "Python 3",
   "language": "python",
   "name": "python3"
  },
  "language_info": {
   "codemirror_mode": {
    "name": "ipython",
    "version": 3
   },
   "file_extension": ".py",
   "mimetype": "text/x-python",
   "name": "python",
   "nbconvert_exporter": "python",
   "pygments_lexer": "ipython3",
   "version": "3.7.6"
  }
 },
 "nbformat": 4,
 "nbformat_minor": 4
}
