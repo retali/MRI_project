{
 "cells": [
  {
   "cell_type": "code",
   "execution_count": 1,
   "metadata": {},
   "outputs": [],
   "source": [
    "import matplotlib.pyplot as plt\n",
    "import pandas as pd\n",
    "import scipy.stats as st\n",
    "import numpy as np\n",
    "from scipy.stats import linregress\n",
    "\n",
    "#This is to define the model object, fit the model to the data and make predictions with the model.\n",
    "#The model is: real GDP percapita growth rate (Y) = f(MRI) [ Y = aX + b + e (e = prediction error)]\n",
    "#They are also calculated the mean squared error (MSE), the correlation coefficient and the Rsquared.\n",
    "#It is used the predict function to calculate predicted values.\n",
    "#VALIDATION: In order to quantify our model against new input values, we often split the data into training and testing data. \n",
    "#The model is then fit to the training data and scored by the test data. \n",
    "#Sklean pre-processing provides a library for automatically splitting up the data into training and testing.\n",
    "#It is used the Durbin-Watson test for serial correlation (autocorrelation) test.\n",
    "#It is shown the model fit by plotting the predicted values against the original data\n",
    "\n",
    "#All this can be performed for each of the Latin American economies: 15 countries\n",
    "#Each country has around 40 years of data\n",
    "#All dataset were provided by the International Monetary Fund\n",
    "# https://www.imf.org/external/pubs/ft/weo/2019/01/weodata/weoselagr.aspx\n",
    "\n",
    "#Macroeconomic Result Index (MRI) is an Index developed by Jose Ignacio Diaz Rettali\n",
    "\n",
    "#Analysis for 15 Latin American economies based on the Macroeconomic Result Index (MRI)\n",
    "# MRI = (real GDP rate / (inflation rate / unemployment rate)) * 1000\n",
    "# In order to demonstrate the strong relationship between the MRI and real GDP percapita rate,\n",
    "# it is calcualted the R-squared for these variables to each country, and it is also\n",
    "# needed to show the distribution around the mean R-squared\n",
    "#The R-squared is calculated between the MRI and the real GDP percapita rate\n",
    "\n",
    "Data1 = \"data/bolivia.csv\"\n",
    "Data2 = \"data/brazil.csv\"\n",
    "Data3 = \"data/chile.csv\"\n",
    "Data4 = \"data/colombia.csv\"\n",
    "Data5 = \"data/ecuador.csv\"\n",
    "Data6 = \"data/mexico.csv\"\n",
    "Data7 = \"data/paraguay.csv\"\n",
    "Data8 = \"data/peru.csv\"\n",
    "Data9 = \"data/uruguay.csv\"\n",
    "Data10 = \"data/venezuela.csv\"\n",
    "Data11 = \"data/argentina.csv\"\n",
    "Data12 = \"data/costarica.csv\"\n",
    "Data13 = \"data/elsalvador.csv\"\n",
    "Data14 = \"data/nicaragua.csv\"\n",
    "Data15 = \"data/panama.csv\"\n",
    "\n",
    "dataW1 = pd.read_csv(Data1)\n",
    "dataW2 = pd.read_csv(Data2)\n",
    "dataW3 = pd.read_csv(Data3)\n",
    "dataW4 = pd.read_csv(Data4)\n",
    "dataW5 = pd.read_csv(Data5)\n",
    "dataW6 = pd.read_csv(Data6)\n",
    "dataW7 = pd.read_csv(Data7)\n",
    "dataW8 = pd.read_csv(Data8)\n",
    "dataW9 = pd.read_csv(Data9)\n",
    "dataW10 = pd.read_csv(Data10)\n",
    "dataW11 = pd.read_csv(Data11)\n",
    "dataW12 = pd.read_csv(Data12)\n",
    "dataW13 = pd.read_csv(Data13)\n",
    "dataW14 = pd.read_csv(Data14)\n",
    "dataW15 = pd.read_csv(Data15)\n",
    "\n",
    "countries = ['Bolivia', 'Brazil', 'Chile', 'Colombia', 'Ecuador', 'Mexico', 'Paraguay', 'Peru', 'Uruguay',\n",
    "             'Venezuela', 'Argentina', 'Costa Rica', 'El Salvador', 'Nicaragua', 'Panama']\n",
    "dfrs = pd.DataFrame(countries, columns = [\"Countries\"])\n",
    "\n",
    "#dfrs\n"
   ]
  },
  {
   "cell_type": "code",
   "execution_count": 2,
   "metadata": {},
   "outputs": [
    {
     "data": {
      "text/html": [
       "<div>\n",
       "<style scoped>\n",
       "    .dataframe tbody tr th:only-of-type {\n",
       "        vertical-align: middle;\n",
       "    }\n",
       "\n",
       "    .dataframe tbody tr th {\n",
       "        vertical-align: top;\n",
       "    }\n",
       "\n",
       "    .dataframe thead th {\n",
       "        text-align: right;\n",
       "    }\n",
       "</style>\n",
       "<table border=\"1\" class=\"dataframe\">\n",
       "  <thead>\n",
       "    <tr style=\"text-align: right;\">\n",
       "      <th></th>\n",
       "      <th>year</th>\n",
       "      <th>gdprate</th>\n",
       "      <th>infrate</th>\n",
       "      <th>unemprate</th>\n",
       "      <th>gdppcrate</th>\n",
       "      <th>mri</th>\n",
       "    </tr>\n",
       "  </thead>\n",
       "  <tbody>\n",
       "    <tr>\n",
       "      <th>0</th>\n",
       "      <td>1981</td>\n",
       "      <td>-2.260</td>\n",
       "      <td>36.806</td>\n",
       "      <td>8.766</td>\n",
       "      <td>-5.150</td>\n",
       "      <td>-49.591855</td>\n",
       "    </tr>\n",
       "    <tr>\n",
       "      <th>1</th>\n",
       "      <td>1982</td>\n",
       "      <td>-7.285</td>\n",
       "      <td>90.271</td>\n",
       "      <td>9.405</td>\n",
       "      <td>-9.984</td>\n",
       "      <td>-73.086801</td>\n",
       "    </tr>\n",
       "    <tr>\n",
       "      <th>2</th>\n",
       "      <td>1983</td>\n",
       "      <td>2.859</td>\n",
       "      <td>32.503</td>\n",
       "      <td>9.231</td>\n",
       "      <td>-0.058</td>\n",
       "      <td>68.505295</td>\n",
       "    </tr>\n",
       "    <tr>\n",
       "      <th>3</th>\n",
       "      <td>1984</td>\n",
       "      <td>8.028</td>\n",
       "      <td>12.013</td>\n",
       "      <td>5.361</td>\n",
       "      <td>4.967</td>\n",
       "      <td>462.069759</td>\n",
       "    </tr>\n",
       "    <tr>\n",
       "      <th>4</th>\n",
       "      <td>1985</td>\n",
       "      <td>0.722</td>\n",
       "      <td>15.129</td>\n",
       "      <td>6.846</td>\n",
       "      <td>-2.231</td>\n",
       "      <td>32.855518</td>\n",
       "    </tr>\n",
       "  </tbody>\n",
       "</table>\n",
       "</div>"
      ],
      "text/plain": [
       "   year  gdprate  infrate  unemprate  gdppcrate         mri\n",
       "0  1981   -2.260   36.806      8.766     -5.150  -49.591855\n",
       "1  1982   -7.285   90.271      9.405     -9.984  -73.086801\n",
       "2  1983    2.859   32.503      9.231     -0.058   68.505295\n",
       "3  1984    8.028   12.013      5.361      4.967  462.069759\n",
       "4  1985    0.722   15.129      6.846     -2.231   32.855518"
      ]
     },
     "execution_count": 2,
     "metadata": {},
     "output_type": "execute_result"
    }
   ],
   "source": [
    "#calculating the Macroeconomic Result Index (MRI)\n",
    "#The number in dataW## identify the country to analyze, examples: dataW1 = Bolivia or dataW15 = Panama\n",
    "\n",
    "dataT = dataW12\n",
    "\n",
    "dataT['mri'] = (dataT[\"gdprate\"] / (dataT[\"infrate\"] + dataT[\"unemprate\"])) * 1000\n",
    "#print(dataT)\n",
    "\n",
    "dataT.head()\n"
   ]
  },
  {
   "cell_type": "code",
   "execution_count": 3,
   "metadata": {},
   "outputs": [
    {
     "data": {
      "text/html": [
       "<table class=\"simpletable\">\n",
       "<caption>OLS Regression Results</caption>\n",
       "<tr>\n",
       "  <th>Dep. Variable:</th>        <td>gdppcrate</td>    <th>  R-squared:         </th> <td>   0.754</td>\n",
       "</tr>\n",
       "<tr>\n",
       "  <th>Model:</th>                   <td>OLS</td>       <th>  Adj. R-squared:    </th> <td>   0.748</td>\n",
       "</tr>\n",
       "<tr>\n",
       "  <th>Method:</th>             <td>Least Squares</td>  <th>  F-statistic:       </th> <td>   119.5</td>\n",
       "</tr>\n",
       "<tr>\n",
       "  <th>Date:</th>             <td>Sat, 31 Oct 2020</td> <th>  Prob (F-statistic):</th> <td>1.94e-13</td>\n",
       "</tr>\n",
       "<tr>\n",
       "  <th>Time:</th>                 <td>09:05:44</td>     <th>  Log-Likelihood:    </th> <td> -75.673</td>\n",
       "</tr>\n",
       "<tr>\n",
       "  <th>No. Observations:</th>      <td>    41</td>      <th>  AIC:               </th> <td>   155.3</td>\n",
       "</tr>\n",
       "<tr>\n",
       "  <th>Df Residuals:</th>          <td>    39</td>      <th>  BIC:               </th> <td>   158.8</td>\n",
       "</tr>\n",
       "<tr>\n",
       "  <th>Df Model:</th>              <td>     1</td>      <th>                     </th>     <td> </td>   \n",
       "</tr>\n",
       "<tr>\n",
       "  <th>Covariance Type:</th>      <td>nonrobust</td>    <th>                     </th>     <td> </td>   \n",
       "</tr>\n",
       "</table>\n",
       "<table class=\"simpletable\">\n",
       "<tr>\n",
       "    <td></td>       <th>coef</th>     <th>std err</th>      <th>t</th>      <th>P>|t|</th>  <th>[0.025</th>    <th>0.975]</th>  \n",
       "</tr>\n",
       "<tr>\n",
       "  <th>const</th> <td>   -2.1161</td> <td>    0.418</td> <td>   -5.060</td> <td> 0.000</td> <td>   -2.962</td> <td>   -1.270</td>\n",
       "</tr>\n",
       "<tr>\n",
       "  <th>mri</th>   <td>    0.0165</td> <td>    0.002</td> <td>   10.930</td> <td> 0.000</td> <td>    0.013</td> <td>    0.020</td>\n",
       "</tr>\n",
       "</table>\n",
       "<table class=\"simpletable\">\n",
       "<tr>\n",
       "  <th>Omnibus:</th>       <td>32.101</td> <th>  Durbin-Watson:     </th> <td>   1.744</td>\n",
       "</tr>\n",
       "<tr>\n",
       "  <th>Prob(Omnibus):</th> <td> 0.000</td> <th>  Jarque-Bera (JB):  </th> <td> 101.257</td>\n",
       "</tr>\n",
       "<tr>\n",
       "  <th>Skew:</th>          <td>-1.812</td> <th>  Prob(JB):          </th> <td>1.03e-22</td>\n",
       "</tr>\n",
       "<tr>\n",
       "  <th>Kurtosis:</th>      <td> 9.792</td> <th>  Cond. No.          </th> <td>    473.</td>\n",
       "</tr>\n",
       "</table><br/><br/>Warnings:<br/>[1] Standard Errors assume that the covariance matrix of the errors is correctly specified."
      ],
      "text/plain": [
       "<class 'statsmodels.iolib.summary.Summary'>\n",
       "\"\"\"\n",
       "                            OLS Regression Results                            \n",
       "==============================================================================\n",
       "Dep. Variable:              gdppcrate   R-squared:                       0.754\n",
       "Model:                            OLS   Adj. R-squared:                  0.748\n",
       "Method:                 Least Squares   F-statistic:                     119.5\n",
       "Date:                Sat, 31 Oct 2020   Prob (F-statistic):           1.94e-13\n",
       "Time:                        09:05:44   Log-Likelihood:                -75.673\n",
       "No. Observations:                  41   AIC:                             155.3\n",
       "Df Residuals:                      39   BIC:                             158.8\n",
       "Df Model:                           1                                         \n",
       "Covariance Type:            nonrobust                                         \n",
       "==============================================================================\n",
       "                 coef    std err          t      P>|t|      [0.025      0.975]\n",
       "------------------------------------------------------------------------------\n",
       "const         -2.1161      0.418     -5.060      0.000      -2.962      -1.270\n",
       "mri            0.0165      0.002     10.930      0.000       0.013       0.020\n",
       "==============================================================================\n",
       "Omnibus:                       32.101   Durbin-Watson:                   1.744\n",
       "Prob(Omnibus):                  0.000   Jarque-Bera (JB):              101.257\n",
       "Skew:                          -1.812   Prob(JB):                     1.03e-22\n",
       "Kurtosis:                       9.792   Cond. No.                         473.\n",
       "==============================================================================\n",
       "\n",
       "Warnings:\n",
       "[1] Standard Errors assume that the covariance matrix of the errors is correctly specified.\n",
       "\"\"\""
      ]
     },
     "execution_count": 3,
     "metadata": {},
     "output_type": "execute_result"
    }
   ],
   "source": [
    "#Regression results for a simple linear regression\n",
    "\n",
    "from sklearn import linear_model\n",
    "import statsmodels.api as sm\n",
    "\n",
    "x = dataT['mri']\n",
    "y = dataT['gdppcrate']\n",
    "\n",
    "x = sm.add_constant(x)\n",
    "\n",
    "model = sm.OLS(y, x).fit()\n",
    "predictions = model.predict(x)\n",
    "model.summary()\n"
   ]
  },
  {
   "cell_type": "code",
   "execution_count": 4,
   "metadata": {},
   "outputs": [
    {
     "name": "stdout",
     "output_type": "stream",
     "text": [
      "y = 0.01647 x + -2.1161   rvalue = 0.87  stderr = 0.00151\n"
     ]
    }
   ],
   "source": [
    "# Estimated line equation\n",
    "\n",
    "(slope, intercept, rvalue, pvalue, stderr) = linregress(dataT[\"mri\"], dataT[\"gdppcrate\"])\n",
    "regressValues = dataT[\"mri\"]* slope + intercept\n",
    "lineEq = f\"y = {round(slope, 5)} x + {round(intercept, 4)}   rvalue = {round(rvalue, 2)}  stderr = {round(stderr, 5)}\"\n",
    "print(lineEq)\n"
   ]
  },
  {
   "cell_type": "code",
   "execution_count": 5,
   "metadata": {},
   "outputs": [
    {
     "data": {
      "text/html": [
       "<div>\n",
       "<style scoped>\n",
       "    .dataframe tbody tr th:only-of-type {\n",
       "        vertical-align: middle;\n",
       "    }\n",
       "\n",
       "    .dataframe tbody tr th {\n",
       "        vertical-align: top;\n",
       "    }\n",
       "\n",
       "    .dataframe thead th {\n",
       "        text-align: right;\n",
       "    }\n",
       "</style>\n",
       "<table border=\"1\" class=\"dataframe\">\n",
       "  <thead>\n",
       "    <tr style=\"text-align: right;\">\n",
       "      <th></th>\n",
       "      <th>Predicted</th>\n",
       "      <th>Actual</th>\n",
       "      <th>Error</th>\n",
       "    </tr>\n",
       "  </thead>\n",
       "  <tbody>\n",
       "    <tr>\n",
       "      <th>0</th>\n",
       "      <td>-2.932908</td>\n",
       "      <td>-5.150</td>\n",
       "      <td>2.217092</td>\n",
       "    </tr>\n",
       "    <tr>\n",
       "      <th>1</th>\n",
       "      <td>-3.319877</td>\n",
       "      <td>-9.984</td>\n",
       "      <td>6.664123</td>\n",
       "    </tr>\n",
       "    <tr>\n",
       "      <th>2</th>\n",
       "      <td>-0.987812</td>\n",
       "      <td>-0.058</td>\n",
       "      <td>-0.929812</td>\n",
       "    </tr>\n",
       "    <tr>\n",
       "      <th>3</th>\n",
       "      <td>5.494316</td>\n",
       "      <td>4.967</td>\n",
       "      <td>0.527316</td>\n",
       "    </tr>\n",
       "    <tr>\n",
       "      <th>4</th>\n",
       "      <td>-1.574975</td>\n",
       "      <td>-2.231</td>\n",
       "      <td>0.656025</td>\n",
       "    </tr>\n",
       "  </tbody>\n",
       "</table>\n",
       "</div>"
      ],
      "text/plain": [
       "   Predicted  Actual     Error\n",
       "0  -2.932908  -5.150  2.217092\n",
       "1  -3.319877  -9.984  6.664123\n",
       "2  -0.987812  -0.058 -0.929812\n",
       "3   5.494316   4.967  0.527316\n",
       "4  -1.574975  -2.231  0.656025"
      ]
     },
     "execution_count": 5,
     "metadata": {},
     "output_type": "execute_result"
    }
   ],
   "source": [
    "#Predicted values and prediction errors\n",
    "\n",
    "dfPAE = pd.DataFrame({\"Predicted\": predictions, \"Actual\": y, \"Error\": predictions - y})[[\"Predicted\", \"Actual\", \"Error\"]]\n",
    "dfPAE.head()\n"
   ]
  },
  {
   "cell_type": "code",
   "execution_count": 6,
   "metadata": {},
   "outputs": [],
   "source": [
    "#export to excel\n",
    "\n",
    "#pd.DataFrame(dfPAE).to_excel('mripredictLA.xlsx', index=False)\n"
   ]
  },
  {
   "cell_type": "code",
   "execution_count": 6,
   "metadata": {},
   "outputs": [
    {
     "name": "stdout",
     "output_type": "stream",
     "text": [
      "True output: 4.967\n",
      "Predicted output: 5.4943\n",
      "Prediction Error: 0.5273\n"
     ]
    }
   ],
   "source": [
    "#Calculate predicted values\n",
    "# N = 0 ; for the first year in dataset\n",
    "\n",
    "N = 3\n",
    "\n",
    "print(f\"True output: {round(y[N], 4)}\")\n",
    "print(f\"Predicted output: {round(predictions[N], 4)}\")\n",
    "print(f\"Prediction Error: {round(predictions[N]-y[N], 4)}\")\n"
   ]
  },
  {
   "cell_type": "code",
   "execution_count": 7,
   "metadata": {},
   "outputs": [
    {
     "name": "stdout",
     "output_type": "stream",
     "text": [
      "Mean Squared Error (MSE): 2.3478\n",
      "R-squared (R2 ): 0.7539\n"
     ]
    }
   ],
   "source": [
    "# Score the prediction with mse and r2\n",
    "\n",
    "from sklearn.metrics import mean_squared_error, r2_score\n",
    "\n",
    "mse = mean_squared_error(y, predictions)\n",
    "r2 = r2_score(y, predictions)\n",
    "\n",
    "print(f\"Mean Squared Error (MSE): {round(mse, 4)}\")\n",
    "print(f\"R-squared (R2 ): {round(r2, 4)}\")\n"
   ]
  },
  {
   "cell_type": "code",
   "execution_count": 8,
   "metadata": {},
   "outputs": [
    {
     "name": "stdout",
     "output_type": "stream",
     "text": [
      "Shape: (41, 1) (41, 1)\n"
     ]
    }
   ],
   "source": [
    "#VALIDATION: In order to quantify our model against new input values, we often split the data into training and testing data. \n",
    "#The model is then fit to the training data and scored by the test data. \n",
    "#Sklearn pre-processing provides a library for automatically splitting up the data into training and testing\n",
    "\n",
    "from sklearn.linear_model import LinearRegression\n",
    "\n",
    "# Assign the data to X and y\n",
    "# Note: Sklearn requires a two-dimensional array of values\n",
    "# so we use reshape to create this\n",
    "\n",
    "X = dataT.mri.values.reshape(-1, 1)\n",
    "y = dataT.gdppcrate.values.reshape(-1, 1)\n",
    "\n",
    "print(\"Shape:\", X.shape, y.shape)\n",
    "#X\n",
    "#y\n"
   ]
  },
  {
   "cell_type": "code",
   "execution_count": 9,
   "metadata": {},
   "outputs": [],
   "source": [
    "# Create a linear model\n",
    "\n",
    "model = LinearRegression()\n"
   ]
  },
  {
   "cell_type": "code",
   "execution_count": 10,
   "metadata": {},
   "outputs": [
    {
     "data": {
      "text/plain": [
       "LinearRegression(copy_X=True, fit_intercept=True, n_jobs=None, normalize=False)"
      ]
     },
     "execution_count": 10,
     "metadata": {},
     "output_type": "execute_result"
    }
   ],
   "source": [
    "# Fit (Train) our model to the data\n",
    "\n",
    "model.fit(X, y)\n"
   ]
  },
  {
   "cell_type": "code",
   "execution_count": 11,
   "metadata": {},
   "outputs": [],
   "source": [
    "from sklearn.model_selection import train_test_split\n",
    "\n",
    "X_train, X_test, y_train, y_test = train_test_split(X, y, random_state=42)\n"
   ]
  },
  {
   "cell_type": "code",
   "execution_count": 12,
   "metadata": {},
   "outputs": [
    {
     "data": {
      "text/plain": [
       "LinearRegression(copy_X=True, fit_intercept=True, n_jobs=None, normalize=False)"
      ]
     },
     "execution_count": 12,
     "metadata": {},
     "output_type": "execute_result"
    }
   ],
   "source": [
    "#Train the model using the training data\n",
    "\n",
    "model.fit(X_train, y_train)\n"
   ]
  },
  {
   "cell_type": "code",
   "execution_count": 13,
   "metadata": {},
   "outputs": [
    {
     "name": "stdout",
     "output_type": "stream",
     "text": [
      "Overall score (testing data) = 0.7992\n"
     ]
    }
   ],
   "source": [
    "#And score the model using the unseen testing data\n",
    "\n",
    "ScoreT = model.score(X_test, y_test)\n",
    "print(f\"Overall score (testing data) = {round(ScoreT, 4)}\")\n"
   ]
  },
  {
   "cell_type": "code",
   "execution_count": 14,
   "metadata": {},
   "outputs": [
    {
     "data": {
      "image/png": "[encoded data removed]",
      "text/plain": [
       "<Figure size 720x504 with 1 Axes>"
      ]
     },
     "metadata": {
      "needs_background": "light"
     },
     "output_type": "display_data"
    }
   ],
   "source": [
    "#This is to show the model fit by plotting the predicted values against the original data.\n",
    "\n",
    "plt.figure(figsize = (10,7))\n",
    "\n",
    "x1 = dataT['year']\n",
    "y1 = dfPAE['Actual']\n",
    "plt.plot(x1, y1, label = \"Actual\", linewidth = 4)\n",
    "x2 = dataT['year']\n",
    "y2 = dfPAE['Predicted']\n",
    "plt.plot(x2, y2, label = \"Predicted\", linewidth = 3)\n",
    "plt.xlabel('years')\n",
    "plt.ylabel('real GDP percapita growth rate')\n",
    "plt.title('Actual vs Predicted values - Costa Rica')\n",
    "plt.legend()\n",
    "plt.annotate(lineEq,(1987,-6), color = \"brown\", fontsize=12)\n",
    "plt.annotate('x = Macroeconomic Result Index',(1987,-7.5), color = \"brown\", fontsize=10)\n",
    "plt.show()\n"
   ]
  },
  {
   "cell_type": "code",
   "execution_count": 20,
   "metadata": {},
   "outputs": [
    {
     "data": {
      "image/png": "[encoded data removed]",
      "text/plain": [
       "<Figure size 720x504 with 1 Axes>"
      ]
     },
     "metadata": {
      "needs_background": "light"
     },
     "output_type": "display_data"
    }
   ],
   "source": [
    "#This is to show the model fit by plotting the GDP percapita growth rate vs MRI using the estimated model.\n",
    "\n",
    "(slope, intercept, rvalue, pvalue, stderr) = linregress(dataT[\"mri\"], dataT[\"gdppcrate\"])\n",
    "regressValues = dataT[\"mri\"]* slope + intercept\n",
    "lineEq = f\"y = {round(slope, 5)} x + {round(intercept, 4)}   rvalue = {round(rvalue, 2)}  stderr = {round(stderr, 5)}\"\n",
    "\n",
    "plt.figure(figsize = (10,7))\n",
    "\n",
    "plt.scatter(dataT[\"mri\"], dataT[\"gdppcrate\"])\n",
    "plt.plot(dataT[\"mri\"], regressValues, color = \"green\")\n",
    "plt.annotate(lineEq,(100,-7.5), color = \"blue\", fontsize=10)\n",
    "plt.annotate('x = Macroeconomic Result Index',(100,-8.5), color = \"brown\", fontsize=10)\n",
    "plt.xlabel(\"Macroeconomic Result Index (MRI)\")\n",
    "plt.ylabel(\"GDP percapita growth rate\")\n",
    "plt.title(\"MRI vs GDP percapita growth rate\")\n",
    "\n",
    "plt.show()\n"
   ]
  },
  {
   "cell_type": "code",
   "execution_count": null,
   "metadata": {},
   "outputs": [],
   "source": []
  }
 ],
 "metadata": {
  "kernelspec": {
   "display_name": "Python 3",
   "language": "python",
   "name": "python3"
  },
  "language_info": {
   "codemirror_mode": {
    "name": "ipython",
    "version": 3
   },
   "file_extension": ".py",
   "mimetype": "text/x-python",
   "name": "python",
   "nbconvert_exporter": "python",
   "pygments_lexer": "ipython3",
   "version": "3.7.6"
  }
 },
 "nbformat": 4,
 "nbformat_minor": 4
}
